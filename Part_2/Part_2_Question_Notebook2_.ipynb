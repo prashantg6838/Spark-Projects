{
  "cells": [
    {
      "cell_type": "markdown",
      "source": [
        "### Setup the Spark VM and complete the below assignment\n",
        "\n",
        "Objective:- Build a ML model to predict the employee compensation.\n",
        "The application should be modelled using Spark.\n",
        "\n",
        "You can refer to the below links for spark commands:- \n",
        "- https://spark.apache.org/docs/latest/ml-pipeline.html\n",
        "\n",
        "- https://github.com/spark-in-action/first-edition\n",
        "\n",
        "- https://github.com/FavioVazquez/first_spark_model"
      ],
      "metadata": {
        "id": "dOMqSrk_Q-xH"
      }
    },
    {
      "cell_type": "markdown",
      "metadata": {
        "application/vnd.databricks.v1+cell": {
          "inputWidgets": {},
          "nuid": "2f9c04dd-cf52-4c53-aecd-bfe96f9529af",
          "showTitle": false,
          "title": ""
        },
        "id": "lAEn9f14QP0a"
      },
      "source": [
        "# Predicting Employee Compensation"
      ]
    },
    {
      "cell_type": "markdown",
      "metadata": {
        "application/vnd.databricks.v1+cell": {
          "inputWidgets": {},
          "nuid": "0ad7374a-5b59-4f1d-9a73-ecdf72f93ffd",
          "showTitle": false,
          "title": ""
        },
        "id": "SsDAS5vxQP0c"
      },
      "source": [
        "## Data Dictionary\n",
        "<br>**Year Type** - Fiscal (July through June) or Calendar (January through December)\n",
        "<br>**Year** - An accounting period of 12 months. The City and County of San Francisco operates on a fiscal year that begins on July 1 and ends on June 30 the following year. The Fiscal Year ending June 30, 2012 is represented as FY2011-2012.\n",
        "<br>**Organization Group Code** - Org Group is a group of Departments. For example, the Public Protection Org Group includes departments such as the Police,Fire, Adult Probation, District Attorney, and Sheriff.\n",
        "<br> **Organization Group** - Org Group is a group of Departments. For example, the Public Protection Org Group includes departments such as the Police,\n",
        "Fire, Adult Probation, District Attorney, and Sheriff.\n",
        "<br>**Department Code** - Departments are the primary organizational unit used by the Cityand County of San Francisco. Examples include Recreation and\n",
        "Parks, Public Works, and the Police Department.\n",
        "<br>**Department Code** - Departments are the primary organizational unit used by the City and County of San Francisco. Examples include Recreation and Parks, Public Works, and the Police Department.\n",
        "<br>**Union Code** - Unions represent employees in collective bargaining agreements. A job belongs to one union, although some jobs are unrepresented (usually temporarily).\n",
        "<br>**Union** - Unions represent employees in collective bargaining agreements. A job belongs to one union, although some jobs are unrepresented (usually temporarily).\n",
        "<br>**Job Family Code** Job Family combines similar Jobs into meaningful groups.\n",
        "<br>**Job Family** Job Family combines similar Jobs into meaningful groups.\n",
        "<br>**Employee Identifier** Each distinct number in the “Employee Identifier” column represents one employee. These identifying numbers are not meaningful but rather are randomly assigned for the purpose of building this dataset. The column does not appear on the\n",
        "Employee Compensation report hosted on openbook.sfgov.org,\n",
        "but that report does show one row for each employee. Employee\n",
        "ID has been included here to allow users to reconstruct the\n",
        "original report. Note that each employee’s identifier will change\n",
        "each time this dataset is updated, so comparisons by employee\n",
        "across multiple versions of the dataset are not possible.\n",
        "<br>**Salaries** - Normal salaries paid to permanent or temporary City employees.\n",
        "<br>**Overtime** - Amounts paid to City employees working in excess of 40 hours\n",
        "per week.\n",
        "<br>**Other Salaries** - Various irregular payments made to City employees including premium pay, incentive pay, or other one-time payments. Total Salary Number The sum of all salaries paid to City employees.\n",
        "<br>**Retirement** City contributions to employee retirement plans.\n",
        "<br>**Health/Dental** City-paid premiums to health and dental insurance plans covering City employees. To protect confidentiality as legally required, pro-rated citywide averages are presented in lieu of employee-specific health and dental benefits.\n",
        "<br>**Other Benefits** Mandatory benefits paid on behalf of employees, such as Social Security (FICA and Medicare) contributions, unemployment\n",
        "insurance premiums, and minor discretionary benefits not included in the above categories.\n",
        "<br>**Total Benefits** The sum of all benefits paid to City employees.\n",
        "<br>**Total Compensation** The sum of all salaries and benefits paid to City employees."
      ]
    },
    {
      "cell_type": "markdown",
      "metadata": {
        "id": "v_3QapC-QP0d"
      },
      "source": [
        "Read the data and answer the following questions to predict employee compensation"
      ]
    },
    {
      "cell_type": "code",
      "source": [
        "import numpy as np # linear algebra\n",
        "import matplotlib.pyplot as plt \n",
        "import seaborn as sns\n",
        "import pandas as pd"
      ],
      "metadata": {
        "id": "rDSGHriZxdVG"
      },
      "execution_count": null,
      "outputs": []
    },
    {
      "cell_type": "code",
      "source": [
        "!sudo apt update\n",
        "!apt-get install openjdk-8-jdk-headless -qq > /dev/null\n",
        "!wget -q https://dlcdn.apache.org/spark/spark-3.3.1/spark-3.3.1-bin-hadoop3.tgz"
      ],
      "metadata": {
        "colab": {
          "base_uri": "https://localhost:8080/"
        },
        "id": "T9uEv8Haxydp",
        "outputId": "bdd20595-240f-4be2-d409-802684bb6919"
      },
      "execution_count": null,
      "outputs": [
        {
          "output_type": "stream",
          "name": "stdout",
          "text": [
            "\u001b[33m\r0% [Working]\u001b[0m\r            \rGet:1 https://cloud.r-project.org/bin/linux/ubuntu focal-cran40/ InRelease [3,622 B]\n",
            "\u001b[33m\r0% [Connecting to archive.ubuntu.com (185.125.190.39)] [Connecting to security.\u001b[0m\u001b[33m\r0% [Connecting to archive.ubuntu.com (185.125.190.39)] [Connecting to security.\u001b[0m\r                                                                               \rGet:2 http://security.ubuntu.com/ubuntu focal-security InRelease [114 kB]\n",
            "\u001b[33m\r0% [Waiting for headers] [2 InRelease 14.2 kB/114 kB 12%] [Waiting for headers]\u001b[0m\r                                                                               \rHit:3 http://archive.ubuntu.com/ubuntu focal InRelease\n",
            "\u001b[33m\r0% [Waiting for headers] [2 InRelease 14.2 kB/114 kB 12%] [Waiting for headers]\u001b[0m\r                                                                               \rIgn:4 https://developer.download.nvidia.com/compute/machine-learning/repos/ubuntu2004/x86_64  InRelease\n",
            "\u001b[33m\r0% [Waiting for headers] [2 InRelease 14.2 kB/114 kB 12%] [Waiting for headers]\u001b[0m\r                                                                               \rHit:5 https://developer.download.nvidia.com/compute/cuda/repos/ubuntu2004/x86_64  InRelease\n",
            "\u001b[33m\r0% [Waiting for headers] [2 InRelease 14.2 kB/114 kB 12%] [Waiting for headers]\u001b[0m\r                                                                               \rHit:6 https://developer.download.nvidia.com/compute/machine-learning/repos/ubuntu2004/x86_64  Release\n",
            "\u001b[33m\r0% [Waiting for headers] [2 InRelease 14.2 kB/114 kB 12%] [Waiting for headers]\u001b[0m\r                                                                               \rGet:7 http://ppa.launchpad.net/c2d4u.team/c2d4u4.0+/ubuntu focal InRelease [18.1 kB]\n",
            "Get:8 http://archive.ubuntu.com/ubuntu focal-updates InRelease [114 kB]\n",
            "Hit:9 http://ppa.launchpad.net/cran/libgit2/ubuntu focal InRelease\n",
            "Get:10 http://archive.ubuntu.com/ubuntu focal-backports InRelease [108 kB]\n",
            "Get:11 http://ppa.launchpad.net/deadsnakes/ppa/ubuntu focal InRelease [18.1 kB]\n",
            "Hit:13 http://ppa.launchpad.net/graphics-drivers/ppa/ubuntu focal InRelease\n",
            "Hit:14 http://ppa.launchpad.net/ubuntugis/ppa/ubuntu focal InRelease\n",
            "Get:15 http://security.ubuntu.com/ubuntu focal-security/universe amd64 Packages [994 kB]\n",
            "Get:16 http://ppa.launchpad.net/c2d4u.team/c2d4u4.0+/ubuntu focal/main Sources [2,386 kB]\n",
            "Get:17 http://archive.ubuntu.com/ubuntu focal-updates/main amd64 Packages [2,965 kB]\n",
            "Get:18 http://security.ubuntu.com/ubuntu focal-security/main amd64 Packages [2,479 kB]\n",
            "Get:19 http://ppa.launchpad.net/c2d4u.team/c2d4u4.0+/ubuntu focal/main amd64 Packages [1,131 kB]\n",
            "Get:20 http://archive.ubuntu.com/ubuntu focal-updates/universe amd64 Packages [1,295 kB]\n",
            "Get:21 http://archive.ubuntu.com/ubuntu focal-updates/restricted amd64 Packages [2,062 kB]\n",
            "Get:22 http://ppa.launchpad.net/deadsnakes/ppa/ubuntu focal/main amd64 Packages [29.5 kB]\n",
            "Fetched 13.7 MB in 3s (4,670 kB/s)\n",
            "Reading package lists... Done\n",
            "Building dependency tree       \n",
            "Reading state information... Done\n",
            "28 packages can be upgraded. Run 'apt list --upgradable' to see them.\n"
          ]
        }
      ]
    },
    {
      "cell_type": "code",
      "source": [
        "!tar xf spark-3.3.1-bin-hadoop3.tgz\n",
        "!pip install -q findspark\n",
        "!pip install pyspark"
      ],
      "metadata": {
        "colab": {
          "base_uri": "https://localhost:8080/"
        },
        "id": "nZWx53ZAx-IY",
        "outputId": "d983d813-ec71-48b0-9331-799f12b375a8"
      },
      "execution_count": null,
      "outputs": [
        {
          "output_type": "stream",
          "name": "stdout",
          "text": [
            "Looking in indexes: https://pypi.org/simple, https://us-python.pkg.dev/colab-wheels/public/simple/\n",
            "Collecting pyspark\n",
            "  Downloading pyspark-3.3.1.tar.gz (281.4 MB)\n",
            "\u001b[2K     \u001b[90m━━━━━━━━━━━━━━━━━━━━━━━━━━━━━━━━━━━━━━━\u001b[0m \u001b[32m281.4/281.4 MB\u001b[0m \u001b[31m4.8 MB/s\u001b[0m eta \u001b[36m0:00:00\u001b[0m\n",
            "\u001b[?25h  Preparing metadata (setup.py) ... \u001b[?25l\u001b[?25hdone\n",
            "Collecting py4j==0.10.9.5\n",
            "  Downloading py4j-0.10.9.5-py2.py3-none-any.whl (199 kB)\n",
            "\u001b[2K     \u001b[90m━━━━━━━━━━━━━━━━━━━━━━━━━━━━━━━━━━━━━━\u001b[0m \u001b[32m199.7/199.7 KB\u001b[0m \u001b[31m22.8 MB/s\u001b[0m eta \u001b[36m0:00:00\u001b[0m\n",
            "\u001b[?25hBuilding wheels for collected packages: pyspark\n",
            "  Building wheel for pyspark (setup.py) ... \u001b[?25l\u001b[?25hdone\n",
            "  Created wheel for pyspark: filename=pyspark-3.3.1-py2.py3-none-any.whl size=281845512 sha256=31fca6c4261976b284f02e1c09028689623916985498b8886c29bc2cdcbac1e1\n",
            "  Stored in directory: /root/.cache/pip/wheels/43/dc/11/ec201cd671da62fa9c5cc77078235e40722170ceba231d7598\n",
            "Successfully built pyspark\n",
            "Installing collected packages: py4j, pyspark\n",
            "Successfully installed py4j-0.10.9.5 pyspark-3.3.1\n"
          ]
        }
      ]
    },
    {
      "cell_type": "code",
      "source": [
        "import os\n",
        "os.environ[\"JAVA_HOME\"] = \"/usr/lib/jvm/java-8-openjdk-amd64\"\n",
        "os.environ[\"SPARK_HOME\"] = \"/content/spark-3.3.1-bin-hadoop3\""
      ],
      "metadata": {
        "id": "DtwLb6ULyt4v"
      },
      "execution_count": null,
      "outputs": []
    },
    {
      "cell_type": "code",
      "source": [
        "import findspark\n",
        "findspark.init()\n",
        "findspark.find()"
      ],
      "metadata": {
        "id": "9xeUVlvFy9Ug",
        "colab": {
          "base_uri": "https://localhost:8080/",
          "height": 35
        },
        "outputId": "3832a0e9-34d5-436e-cb92-1108b5f21f59"
      },
      "execution_count": null,
      "outputs": [
        {
          "output_type": "execute_result",
          "data": {
            "text/plain": [
              "'/content/spark-3.3.1-bin-hadoop3'"
            ],
            "application/vnd.google.colaboratory.intrinsic+json": {
              "type": "string"
            }
          },
          "metadata": {},
          "execution_count": 5
        }
      ]
    },
    {
      "cell_type": "code",
      "source": [
        "from pyspark.sql import DataFrame, SparkSession\n",
        "from typing import List\n",
        "import pyspark.sql.types as T\n",
        "import pyspark.sql.functions as F\n",
        "from pyspark import SparkFiles\n",
        "\n",
        "spark = SparkSession \\\n",
        "       .builder \\\n",
        "       .appName(\"Our Second Spark example\") \\\n",
        "       .getOrCreate()\n",
        "\n",
        "spark"
      ],
      "metadata": {
        "colab": {
          "base_uri": "https://localhost:8080/",
          "height": 219
        },
        "id": "ez0jdo3A1PTU",
        "outputId": "5c611484-cae4-49ea-b59b-e87dad8d06fe"
      },
      "execution_count": null,
      "outputs": [
        {
          "output_type": "execute_result",
          "data": {
            "text/plain": [
              "<pyspark.sql.session.SparkSession at 0x7f3b810db700>"
            ],
            "text/html": [
              "\n",
              "            <div>\n",
              "                <p><b>SparkSession - in-memory</b></p>\n",
              "                \n",
              "        <div>\n",
              "            <p><b>SparkContext</b></p>\n",
              "\n",
              "            <p><a href=\"http://2c4ef880c9fd:4040\">Spark UI</a></p>\n",
              "\n",
              "            <dl>\n",
              "              <dt>Version</dt>\n",
              "                <dd><code>v3.3.1</code></dd>\n",
              "              <dt>Master</dt>\n",
              "                <dd><code>local[*]</code></dd>\n",
              "              <dt>AppName</dt>\n",
              "                <dd><code>Our Second Spark example</code></dd>\n",
              "            </dl>\n",
              "        </div>\n",
              "        \n",
              "            </div>\n",
              "        "
            ]
          },
          "metadata": {},
          "execution_count": 6
        }
      ]
    },
    {
      "cell_type": "markdown",
      "metadata": {
        "application/vnd.databricks.v1+cell": {
          "inputWidgets": {},
          "nuid": "ffb92bbb-6e3b-46ec-885e-bb4471538c0c",
          "showTitle": false,
          "title": ""
        },
        "id": "_nMVTM8BQP0d"
      },
      "source": [
        "## 1. Read the Data"
      ]
    },
    {
      "cell_type": "code",
      "source": [
        "spark=SparkSession.builder.getOrCreate()\n",
        "## ensure to use the link of the raw file of the csv\n",
        "url = \"https://raw.githubusercontent.com/Munasib14/SparkSql_Employees_data/master/Employee_Compensation.csv\" # Make sure the url is the raw version of "
      ],
      "metadata": {
        "id": "PW5bNl6qRY4r"
      },
      "execution_count": null,
      "outputs": []
    },
    {
      "cell_type": "code",
      "source": [
        "spark.sparkContext.addFile(url)"
      ],
      "metadata": {
        "id": "m-RfJmJW1irl"
      },
      "execution_count": null,
      "outputs": []
    },
    {
      "cell_type": "code",
      "source": [
        "# Reading the downloaded content and turning it into a pandas dataframe\n",
        "\n",
        "rawDF = spark.read.csv(SparkFiles.get(\"Employee_Compensation.csv\"),inferSchema=True, header= True)\n",
        "rawDF.show()"
      ],
      "metadata": {
        "id": "hdbFw58TRjQd",
        "colab": {
          "base_uri": "https://localhost:8080/"
        },
        "outputId": "4dc2b7ee-28c3-44a9-a503-87fcf4dd17ad"
      },
      "execution_count": null,
      "outputs": [
        {
          "output_type": "stream",
          "name": "stdout",
          "text": [
            "+---------+----+-----------------------+--------------------+---------------+--------------------+----------+--------------------+---------------+--------------------+--------+--------------------+-------------------+---------+--------+--------------+------------+----------+-------------+--------------+--------------+------------------+\n",
            "|Year Type|Year|Organization Group Code|  Organization Group|Department Code|          Department|Union Code|               Union|Job Family Code|          Job Family|Job Code|                 Job|Employee Identifier| Salaries|Overtime|Other Salaries|Total Salary|Retirement|Health/Dental|Other Benefits|Total Benefits|Total Compensation|\n",
            "+---------+----+-----------------------+--------------------+---------------+--------------------+----------+--------------------+---------------+--------------------+--------+--------------------+-------------------+---------+--------+--------------+------------+----------+-------------+--------------+--------------+------------------+\n",
            "|   Fiscal|2016|                      1|   Public Protection|            DAT|   District Attorney|       311|Municipal Attorne...|           8100|       Legal & Court|    8177|Attorney (Civil/C...|              49919|114473.16|     0.0|        1500.0|   115973.16|  21025.98|      13068.8|       9368.71|      43463.49|         159436.65|\n",
            "| Calendar|2013|                      5|Culture & Recreation|            ART|     Arts Commission|       790|SEIU - Miscellane...|           1800|Budget, Admn & St...|    1844|Senior Management...|               1225| 84077.11|     0.0|           0.0|    84077.11|   16587.3|     12457.73|       6931.91|      35976.94|         120054.05|\n",
            "| Calendar|2015|                      4|    Community Health|            DPH|       Public Health|       535|SEIU - Human Serv...|           2900|      Human Services|    2903|  Eligibility Worker|              34873|  9980.17|     0.0|        798.43|     10778.6|       0.0|      2254.93|        835.11|       3090.04|          13868.64|\n",
            "|   Fiscal|2015|                      4|    Community Health|            DPH|       Public Health|       250|SEIU - Health Wor...|           2200|    Medical & Dental|    2202|         Dental Aide|              51145|  2873.41|     0.0|           0.0|     2873.41|       0.0|       622.63|        222.46|        845.09|            3718.5|\n",
            "|   Fiscal|2014|                      5|Culture & Recreation|            REC|Recreation and Pa...|       790|SEIU - Miscellane...|           3200|          Recreation|    3279|   Recreation Leader|              48705|  6701.85|     0.0|         176.7|     6878.55|       0.0|      2711.66|        538.43|       3250.09|          10128.64|\n",
            "|   Fiscal|2013|                      2|Public Works, Tra...|            DPW|General Services ...|        21|Prof & Tech Engin...|           5300|Sub-Professional ...|    5380|Stdntdsgntrain1, ...|              19801| 45321.18|     0.0|           0.0|    45321.18|   9386.03|      11780.6|       3486.34|      24652.97|          69974.15|\n",
            "|   Fiscal|2015|                      5|Culture & Recreation|            LIB|      Public Library|       790|SEIU - Miscellane...|           3600|             Library|    3610|   Library Assistant|              14135|  28305.5|     0.0|       1193.14|    29498.64|   6616.52|      5793.48|       2430.74|      14840.74|          44339.38|\n",
            "|   Fiscal|2014|                      6|General Administr...|            ASR|   Assessor/Recorder|        21|Prof & Tech Engin...|           4200|Appraisal & Taxation|    4261|Real Property App...|              37352| 39938.09|     0.0|         800.0|    40738.09|   8685.34|      7269.02|       3277.52|      19231.88|          59969.97|\n",
            "| Calendar|2015|                      1|   Public Protection|            POL|              Police|       911|Police Officers' ...|           Q000|     Police Services|    Q060|Lieutenant (Polic...|              13380|  23112.0| 2312.73|      20944.16|    46368.89|   4183.12|      1911.46|         68.84|       6163.42|          52532.31|\n",
            "|   Fiscal|2014|                      1|   Public Protection|            SHF|             Sheriff|       498|Deputy Sheriffs' ...|           8300|Correction & Dete...|    8304|      Deputy Sheriff|              46569| 89101.22| 6856.77|       5563.78|   101521.77|  17596.33|     12512.55|       1627.91|      31736.79|         133258.56|\n",
            "|   Fiscal|2015|                      2|Public Works, Tra...|            AIR|  Airport Commission|       790|SEIU - Miscellane...|           9900| Public Service Aide|    9920|Publ Svc Aide-Ass...|              38170|  7091.33|     0.0|           0.0|     7091.33|       0.0|      2361.82|        549.01|       2910.83|          10002.16|\n",
            "|   Fiscal|2013|                      2|Public Works, Tra...|            DPW|General Services ...|        21|Prof & Tech Engin...|           6200|Public Safety Ins...|    6230|    Street Inspector|              28940| 57467.12|  355.65|           0.0|    57822.77|  11901.38|     11933.98|       4691.34|       28526.7|          86349.47|\n",
            "| Calendar|2015|                      5|Culture & Recreation|            REC|Recreation and Pa...|       261| Laborers, Local 261|           3400|Agriculture & Hor...|    3422|Park Section Supe...|              10817|  80357.0| 5612.97|           7.9|    85977.87|  16562.14|      12424.5|       7091.69|      36078.33|          122056.2|\n",
            "|   Fiscal|2013|                      2|Public Works, Tra...|            MTA|Municipal Transpo...|       253|Transport Workers...|           9100|      Street Transit|    9163|    Transit Operator|              21370| 64170.89|13128.97|       2677.81|    79977.67|  17109.68|     13379.17|       6204.01|      36692.86|         116670.53|\n",
            "|   Fiscal|2016|                      3|Human Welfare & N...|            DSS|      Human Services|        22|Prof & Tech Engin...|           1200|           Personnel|    1241|   Personnel Analyst|              37341| 83038.01|     0.0|         200.0|    83238.01|  15490.62|      13068.8|       6525.06|      35084.48|         118322.49|\n",
            "| Calendar|2014|                      6|General Administr...|            ADM|General Services ...|        16|Theatrical and St...|           1700|Computer Operatns...|    1777|Media/Security Sy...|              34486| 92530.82|     0.0|      13412.58|    105943.4|  20224.21|     13054.94|       8450.17|      41729.32|         147672.72|\n",
            "| Calendar|2015|                      2|Public Works, Tra...|            MTA|Municipal Transpo...|       253|Transport Workers...|           9100|      Street Transit|    9163|    Transit Operator|               4273| 44381.77|11166.58|       2694.49|    58242.84|   13602.2|       8826.1|        4423.7|       26852.0|          85094.84|\n",
            "|   Fiscal|2014|                      2|Public Works, Tra...|            MTA|Municipal Transpo...|       790|SEIU - Miscellane...|           9100|      Street Transit|    9131|Station Agent, Mu...|              13061|  78639.3|20332.03|       7821.87|    106793.2|  17683.84|     12512.54|       8707.07|      38903.45|         145696.65|\n",
            "|   Fiscal|2014|                      1|   Public Protection|            DAT|   District Attorney|       311|Municipal Attorne...|           8100|       Legal & Court|    8177|Attorney (Civil/C...|              10747|176267.41|     0.0|        1250.0|   177517.41|  36959.07|     12512.55|      10479.18|       59950.8|         237468.21|\n",
            "|   Fiscal|2015|                      2|Public Works, Tra...|            WTR|PUC Water Department|        38|Plumbers and Pipe...|           7300|    Journeyman Trade|    7316|Water Service Ins...|              37594|100655.41| 8240.09|      16911.85|   125807.35|  24354.06|     12500.56|       9962.73|      46817.35|          172624.7|\n",
            "+---------+----+-----------------------+--------------------+---------------+--------------------+----------+--------------------+---------------+--------------------+--------+--------------------+-------------------+---------+--------+--------------+------------+----------+-------------+--------------+--------------+------------------+\n",
            "only showing top 20 rows\n",
            "\n"
          ]
        }
      ]
    },
    {
      "cell_type": "markdown",
      "source": [
        "### 1.1 Display the number of rows and columns in the dataset"
      ],
      "metadata": {
        "id": "aWQ3YZi0RdP_"
      }
    },
    {
      "cell_type": "code",
      "source": [
        "print(\"Number of Rows: \", rawDF.count())\n",
        "print(\"Number of Columns\", len(rawDF.columns))"
      ],
      "metadata": {
        "colab": {
          "base_uri": "https://localhost:8080/"
        },
        "id": "fC5SJTwj2xJ8",
        "outputId": "34269db8-82a3-4f79-b916-14d0df3e749f"
      },
      "execution_count": null,
      "outputs": [
        {
          "output_type": "stream",
          "name": "stdout",
          "text": [
            "Number of Rows:  291825\n",
            "Number of Columns 22\n"
          ]
        }
      ]
    },
    {
      "cell_type": "markdown",
      "source": [
        "### 1.2 Check the datatype of the variables"
      ],
      "metadata": {
        "id": "cZYaCB4cRjjg"
      }
    },
    {
      "cell_type": "code",
      "source": [
        "rawDF.printSchema()"
      ],
      "metadata": {
        "id": "jdPpc_mgRpva",
        "colab": {
          "base_uri": "https://localhost:8080/"
        },
        "outputId": "6ef6a7dc-8e46-4ed7-9a39-01b245d8e4ce"
      },
      "execution_count": null,
      "outputs": [
        {
          "output_type": "stream",
          "name": "stdout",
          "text": [
            "root\n",
            " |-- Year Type: string (nullable = true)\n",
            " |-- Year: integer (nullable = true)\n",
            " |-- Organization Group Code: integer (nullable = true)\n",
            " |-- Organization Group: string (nullable = true)\n",
            " |-- Department Code: string (nullable = true)\n",
            " |-- Department: string (nullable = true)\n",
            " |-- Union Code: integer (nullable = true)\n",
            " |-- Union: string (nullable = true)\n",
            " |-- Job Family Code: string (nullable = true)\n",
            " |-- Job Family: string (nullable = true)\n",
            " |-- Job Code: string (nullable = true)\n",
            " |-- Job: string (nullable = true)\n",
            " |-- Employee Identifier: integer (nullable = true)\n",
            " |-- Salaries: double (nullable = true)\n",
            " |-- Overtime: double (nullable = true)\n",
            " |-- Other Salaries: double (nullable = true)\n",
            " |-- Total Salary: double (nullable = true)\n",
            " |-- Retirement: double (nullable = true)\n",
            " |-- Health/Dental: double (nullable = true)\n",
            " |-- Other Benefits: double (nullable = true)\n",
            " |-- Total Benefits: double (nullable = true)\n",
            " |-- Total Compensation: double (nullable = true)\n",
            "\n"
          ]
        }
      ]
    },
    {
      "cell_type": "markdown",
      "metadata": {
        "id": "re0TB8PAQP0f"
      },
      "source": [
        "### 2. Convert the incorrect column type into its suitable column type. And drop the redundant features"
      ]
    },
    {
      "cell_type": "code",
      "execution_count": null,
      "metadata": {
        "collapsed": true,
        "id": "173LNkp7QP0f",
        "colab": {
          "base_uri": "https://localhost:8080/"
        },
        "outputId": "ef67399d-67d0-4dd7-8876-edb63d2df148"
      },
      "outputs": [
        {
          "output_type": "stream",
          "name": "stdout",
          "text": [
            "root\n",
            " |-- Year Type: string (nullable = true)\n",
            " |-- Year: double (nullable = true)\n",
            " |-- Organization Group Code: double (nullable = true)\n",
            " |-- Organization Group: string (nullable = true)\n",
            " |-- Department Code: string (nullable = true)\n",
            " |-- Department: string (nullable = true)\n",
            " |-- Union Code: double (nullable = true)\n",
            " |-- Union: string (nullable = true)\n",
            " |-- Job Family Code: string (nullable = true)\n",
            " |-- Job Family: string (nullable = true)\n",
            " |-- Job Code: string (nullable = true)\n",
            " |-- Job: string (nullable = true)\n",
            " |-- Employee Identifier: double (nullable = true)\n",
            " |-- Salaries: double (nullable = true)\n",
            " |-- Overtime: double (nullable = true)\n",
            " |-- Other Salaries: double (nullable = true)\n",
            " |-- Total Salary: double (nullable = true)\n",
            " |-- Retirement: double (nullable = true)\n",
            " |-- Health/Dental: double (nullable = true)\n",
            " |-- Other Benefits: double (nullable = true)\n",
            " |-- Total Benefits: double (nullable = true)\n",
            " |-- Total Compensation: double (nullable = true)\n",
            "\n"
          ]
        }
      ],
      "source": [
        "from pyspark.sql.types import DoubleType\n",
        "from pyspark.sql.functions import col\n",
        "\n",
        "# Converting Inter type data columns to Double type data columns\n",
        "\n",
        "refinedDF= rawDF.withColumn('Year',col('Year').cast(DoubleType()))\n",
        "refinedDF= refinedDF.withColumn('Organization Group Code',col('Organization Group Code').cast(DoubleType()))\n",
        "refinedDF= refinedDF.withColumn('Union Code',col('Union Code').cast(DoubleType()))\n",
        "refinedDF= refinedDF.withColumn('Employee Identifier',col('Employee Identifier').cast(DoubleType()))\n",
        "\n",
        "refinedDF.printSchema()\n"
      ]
    },
    {
      "cell_type": "markdown",
      "metadata": {
        "application/vnd.databricks.v1+cell": {
          "inputWidgets": {},
          "nuid": "28154731-5e40-46a7-b9b3-9444c20c97e8",
          "showTitle": false,
          "title": ""
        },
        "id": "LYYQFu0dQP0g"
      },
      "source": [
        "### 3. Check basic statistics and perform necessary data preprocessing (Like removing negative amount)"
      ]
    },
    {
      "cell_type": "code",
      "source": [
        "refinedDF.describe().toPandas()"
      ],
      "metadata": {
        "colab": {
          "base_uri": "https://localhost:8080/",
          "height": 386
        },
        "id": "zq-WASH3slwM",
        "outputId": "36b469cd-e46a-49ab-fca9-fb167b8fb4a6"
      },
      "execution_count": null,
      "outputs": [
        {
          "output_type": "execute_result",
          "data": {
            "text/plain": [
              "  summary Year Type                Year Organization Group Code  \\\n",
              "0   count    291825              291825                  291825   \n",
              "1    mean      None   2014.325061252463      2.9770513150004283   \n",
              "2  stddev      None  1.0322652725499475      1.5777709265315083   \n",
              "3     min  Calendar              2013.0                     1.0   \n",
              "4     max    Fiscal              2016.0                     7.0   \n",
              "\n",
              "                        Organization Group Department Code  \\\n",
              "0                                   291825          291825   \n",
              "1                                     None            None   \n",
              "2                                     None            None   \n",
              "3                         Community Health             AAM   \n",
              "4  Public Works, Transportation & Commerce             WTR   \n",
              "\n",
              "            Department         Union Code                              Union  \\\n",
              "0               291825             291782                             291782   \n",
              "1                 None  489.5060764543392                               None   \n",
              "2                 None  333.7611361507317                               None   \n",
              "3  Academy of Sciences                1.0  Automotive Machinists, Local 1414   \n",
              "4         War Memorial              990.0  Transportation Workers, Local 200   \n",
              "\n",
              "      Job Family Code  ... Employee Identifier           Salaries  \\\n",
              "0              291780  ...              291825             291825   \n",
              "1  4778.5595401977025  ...   26917.83031611411  63210.17288680958   \n",
              "2    3090.28317174425  ...  15548.201986568694  44660.46230493864   \n",
              "3                0900  ...                 1.0          -68771.78   \n",
              "4                SFRA  ...             53794.0           515101.8   \n",
              "\n",
              "             Overtime     Other Salaries        Total Salary  \\\n",
              "0              291825             291825              291825   \n",
              "1   4406.877439766992  3781.032869870591   71398.08319644183   \n",
              "2  11079.405928192673  7697.665317297405  52224.214098750745   \n",
              "3           -12308.66           -19131.1           -68771.78   \n",
              "4           227313.62          342802.63            515101.8   \n",
              "\n",
              "           Retirement      Health/Dental      Other Benefits  \\\n",
              "0              291825             291825              291825   \n",
              "1  12937.728957114685  8921.893731721031  4644.2764069562145   \n",
              "2    9785.06480840167  4900.318082757292  3787.9070104212783   \n",
              "3           -30621.43           -2940.47            -10636.5   \n",
              "4           105052.98            21872.8            35157.63   \n",
              "\n",
              "       Total Benefits Total Compensation  \n",
              "0              291825             291825  \n",
              "1  26503.899095793855  97901.98229222857  \n",
              "2  16800.143146558938  67777.54915227571  \n",
              "3           -21295.15          -74082.61  \n",
              "4           141043.64          653498.15  \n",
              "\n",
              "[5 rows x 23 columns]"
            ],
            "text/html": [
              "\n",
              "  <div id=\"df-0245507d-3676-4721-aa77-530c8acfb8d6\">\n",
              "    <div class=\"colab-df-container\">\n",
              "      <div>\n",
              "<style scoped>\n",
              "    .dataframe tbody tr th:only-of-type {\n",
              "        vertical-align: middle;\n",
              "    }\n",
              "\n",
              "    .dataframe tbody tr th {\n",
              "        vertical-align: top;\n",
              "    }\n",
              "\n",
              "    .dataframe thead th {\n",
              "        text-align: right;\n",
              "    }\n",
              "</style>\n",
              "<table border=\"1\" class=\"dataframe\">\n",
              "  <thead>\n",
              "    <tr style=\"text-align: right;\">\n",
              "      <th></th>\n",
              "      <th>summary</th>\n",
              "      <th>Year Type</th>\n",
              "      <th>Year</th>\n",
              "      <th>Organization Group Code</th>\n",
              "      <th>Organization Group</th>\n",
              "      <th>Department Code</th>\n",
              "      <th>Department</th>\n",
              "      <th>Union Code</th>\n",
              "      <th>Union</th>\n",
              "      <th>Job Family Code</th>\n",
              "      <th>...</th>\n",
              "      <th>Employee Identifier</th>\n",
              "      <th>Salaries</th>\n",
              "      <th>Overtime</th>\n",
              "      <th>Other Salaries</th>\n",
              "      <th>Total Salary</th>\n",
              "      <th>Retirement</th>\n",
              "      <th>Health/Dental</th>\n",
              "      <th>Other Benefits</th>\n",
              "      <th>Total Benefits</th>\n",
              "      <th>Total Compensation</th>\n",
              "    </tr>\n",
              "  </thead>\n",
              "  <tbody>\n",
              "    <tr>\n",
              "      <th>0</th>\n",
              "      <td>count</td>\n",
              "      <td>291825</td>\n",
              "      <td>291825</td>\n",
              "      <td>291825</td>\n",
              "      <td>291825</td>\n",
              "      <td>291825</td>\n",
              "      <td>291825</td>\n",
              "      <td>291782</td>\n",
              "      <td>291782</td>\n",
              "      <td>291780</td>\n",
              "      <td>...</td>\n",
              "      <td>291825</td>\n",
              "      <td>291825</td>\n",
              "      <td>291825</td>\n",
              "      <td>291825</td>\n",
              "      <td>291825</td>\n",
              "      <td>291825</td>\n",
              "      <td>291825</td>\n",
              "      <td>291825</td>\n",
              "      <td>291825</td>\n",
              "      <td>291825</td>\n",
              "    </tr>\n",
              "    <tr>\n",
              "      <th>1</th>\n",
              "      <td>mean</td>\n",
              "      <td>None</td>\n",
              "      <td>2014.325061252463</td>\n",
              "      <td>2.9770513150004283</td>\n",
              "      <td>None</td>\n",
              "      <td>None</td>\n",
              "      <td>None</td>\n",
              "      <td>489.5060764543392</td>\n",
              "      <td>None</td>\n",
              "      <td>4778.5595401977025</td>\n",
              "      <td>...</td>\n",
              "      <td>26917.83031611411</td>\n",
              "      <td>63210.17288680958</td>\n",
              "      <td>4406.877439766992</td>\n",
              "      <td>3781.032869870591</td>\n",
              "      <td>71398.08319644183</td>\n",
              "      <td>12937.728957114685</td>\n",
              "      <td>8921.893731721031</td>\n",
              "      <td>4644.2764069562145</td>\n",
              "      <td>26503.899095793855</td>\n",
              "      <td>97901.98229222857</td>\n",
              "    </tr>\n",
              "    <tr>\n",
              "      <th>2</th>\n",
              "      <td>stddev</td>\n",
              "      <td>None</td>\n",
              "      <td>1.0322652725499475</td>\n",
              "      <td>1.5777709265315083</td>\n",
              "      <td>None</td>\n",
              "      <td>None</td>\n",
              "      <td>None</td>\n",
              "      <td>333.7611361507317</td>\n",
              "      <td>None</td>\n",
              "      <td>3090.28317174425</td>\n",
              "      <td>...</td>\n",
              "      <td>15548.201986568694</td>\n",
              "      <td>44660.46230493864</td>\n",
              "      <td>11079.405928192673</td>\n",
              "      <td>7697.665317297405</td>\n",
              "      <td>52224.214098750745</td>\n",
              "      <td>9785.06480840167</td>\n",
              "      <td>4900.318082757292</td>\n",
              "      <td>3787.9070104212783</td>\n",
              "      <td>16800.143146558938</td>\n",
              "      <td>67777.54915227571</td>\n",
              "    </tr>\n",
              "    <tr>\n",
              "      <th>3</th>\n",
              "      <td>min</td>\n",
              "      <td>Calendar</td>\n",
              "      <td>2013.0</td>\n",
              "      <td>1.0</td>\n",
              "      <td>Community Health</td>\n",
              "      <td>AAM</td>\n",
              "      <td>Academy of Sciences</td>\n",
              "      <td>1.0</td>\n",
              "      <td>Automotive Machinists, Local 1414</td>\n",
              "      <td>0900</td>\n",
              "      <td>...</td>\n",
              "      <td>1.0</td>\n",
              "      <td>-68771.78</td>\n",
              "      <td>-12308.66</td>\n",
              "      <td>-19131.1</td>\n",
              "      <td>-68771.78</td>\n",
              "      <td>-30621.43</td>\n",
              "      <td>-2940.47</td>\n",
              "      <td>-10636.5</td>\n",
              "      <td>-21295.15</td>\n",
              "      <td>-74082.61</td>\n",
              "    </tr>\n",
              "    <tr>\n",
              "      <th>4</th>\n",
              "      <td>max</td>\n",
              "      <td>Fiscal</td>\n",
              "      <td>2016.0</td>\n",
              "      <td>7.0</td>\n",
              "      <td>Public Works, Transportation &amp; Commerce</td>\n",
              "      <td>WTR</td>\n",
              "      <td>War Memorial</td>\n",
              "      <td>990.0</td>\n",
              "      <td>Transportation Workers, Local 200</td>\n",
              "      <td>SFRA</td>\n",
              "      <td>...</td>\n",
              "      <td>53794.0</td>\n",
              "      <td>515101.8</td>\n",
              "      <td>227313.62</td>\n",
              "      <td>342802.63</td>\n",
              "      <td>515101.8</td>\n",
              "      <td>105052.98</td>\n",
              "      <td>21872.8</td>\n",
              "      <td>35157.63</td>\n",
              "      <td>141043.64</td>\n",
              "      <td>653498.15</td>\n",
              "    </tr>\n",
              "  </tbody>\n",
              "</table>\n",
              "<p>5 rows × 23 columns</p>\n",
              "</div>\n",
              "      <button class=\"colab-df-convert\" onclick=\"convertToInteractive('df-0245507d-3676-4721-aa77-530c8acfb8d6')\"\n",
              "              title=\"Convert this dataframe to an interactive table.\"\n",
              "              style=\"display:none;\">\n",
              "        \n",
              "  <svg xmlns=\"http://www.w3.org/2000/svg\" height=\"24px\"viewBox=\"0 0 24 24\"\n",
              "       width=\"24px\">\n",
              "    <path d=\"M0 0h24v24H0V0z\" fill=\"none\"/>\n",
              "    <path d=\"M18.56 5.44l.94 2.06.94-2.06 2.06-.94-2.06-.94-.94-2.06-.94 2.06-2.06.94zm-11 1L8.5 8.5l.94-2.06 2.06-.94-2.06-.94L8.5 2.5l-.94 2.06-2.06.94zm10 10l.94 2.06.94-2.06 2.06-.94-2.06-.94-.94-2.06-.94 2.06-2.06.94z\"/><path d=\"M17.41 7.96l-1.37-1.37c-.4-.4-.92-.59-1.43-.59-.52 0-1.04.2-1.43.59L10.3 9.45l-7.72 7.72c-.78.78-.78 2.05 0 2.83L4 21.41c.39.39.9.59 1.41.59.51 0 1.02-.2 1.41-.59l7.78-7.78 2.81-2.81c.8-.78.8-2.07 0-2.86zM5.41 20L4 18.59l7.72-7.72 1.47 1.35L5.41 20z\"/>\n",
              "  </svg>\n",
              "      </button>\n",
              "      \n",
              "  <style>\n",
              "    .colab-df-container {\n",
              "      display:flex;\n",
              "      flex-wrap:wrap;\n",
              "      gap: 12px;\n",
              "    }\n",
              "\n",
              "    .colab-df-convert {\n",
              "      background-color: #E8F0FE;\n",
              "      border: none;\n",
              "      border-radius: 50%;\n",
              "      cursor: pointer;\n",
              "      display: none;\n",
              "      fill: #1967D2;\n",
              "      height: 32px;\n",
              "      padding: 0 0 0 0;\n",
              "      width: 32px;\n",
              "    }\n",
              "\n",
              "    .colab-df-convert:hover {\n",
              "      background-color: #E2EBFA;\n",
              "      box-shadow: 0px 1px 2px rgba(60, 64, 67, 0.3), 0px 1px 3px 1px rgba(60, 64, 67, 0.15);\n",
              "      fill: #174EA6;\n",
              "    }\n",
              "\n",
              "    [theme=dark] .colab-df-convert {\n",
              "      background-color: #3B4455;\n",
              "      fill: #D2E3FC;\n",
              "    }\n",
              "\n",
              "    [theme=dark] .colab-df-convert:hover {\n",
              "      background-color: #434B5C;\n",
              "      box-shadow: 0px 1px 3px 1px rgba(0, 0, 0, 0.15);\n",
              "      filter: drop-shadow(0px 1px 2px rgba(0, 0, 0, 0.3));\n",
              "      fill: #FFFFFF;\n",
              "    }\n",
              "  </style>\n",
              "\n",
              "      <script>\n",
              "        const buttonEl =\n",
              "          document.querySelector('#df-0245507d-3676-4721-aa77-530c8acfb8d6 button.colab-df-convert');\n",
              "        buttonEl.style.display =\n",
              "          google.colab.kernel.accessAllowed ? 'block' : 'none';\n",
              "\n",
              "        async function convertToInteractive(key) {\n",
              "          const element = document.querySelector('#df-0245507d-3676-4721-aa77-530c8acfb8d6');\n",
              "          const dataTable =\n",
              "            await google.colab.kernel.invokeFunction('convertToInteractive',\n",
              "                                                     [key], {});\n",
              "          if (!dataTable) return;\n",
              "\n",
              "          const docLinkHtml = 'Like what you see? Visit the ' +\n",
              "            '<a target=\"_blank\" href=https://colab.research.google.com/notebooks/data_table.ipynb>data table notebook</a>'\n",
              "            + ' to learn more about interactive tables.';\n",
              "          element.innerHTML = '';\n",
              "          dataTable['output_type'] = 'display_data';\n",
              "          await google.colab.output.renderOutput(dataTable, element);\n",
              "          const docLink = document.createElement('div');\n",
              "          docLink.innerHTML = docLinkHtml;\n",
              "          element.appendChild(docLink);\n",
              "        }\n",
              "      </script>\n",
              "    </div>\n",
              "  </div>\n",
              "  "
            ]
          },
          "metadata": {},
          "execution_count": 13
        }
      ]
    },
    {
      "cell_type": "code",
      "source": [
        "refinedDF.describe().toPandas().transpose()"
      ],
      "metadata": {
        "colab": {
          "base_uri": "https://localhost:8080/",
          "height": 770
        },
        "id": "25-3Eca43kdX",
        "outputId": "6fd8cc34-6454-4b71-bffb-a927fc2b2bf9"
      },
      "execution_count": null,
      "outputs": [
        {
          "output_type": "execute_result",
          "data": {
            "text/plain": [
              "                              0                   1                   2  \\\n",
              "summary                   count                mean              stddev   \n",
              "Year Type                291825                None                None   \n",
              "Year                     291825   2014.325061252463  1.0322652725499475   \n",
              "Organization Group Code  291825  2.9770513150004283  1.5777709265315083   \n",
              "Organization Group       291825                None                None   \n",
              "Department Code          291825                None                None   \n",
              "Department               291825                None                None   \n",
              "Union Code               291782   489.5060764543392   333.7611361507317   \n",
              "Union                    291782                None                None   \n",
              "Job Family Code          291780  4778.5595401977025    3090.28317174425   \n",
              "Job Family               291780                None                None   \n",
              "Job Code                 291825   4911.798751534337  3128.4123150253026   \n",
              "Job                      291825                None                None   \n",
              "Employee Identifier      291825   26917.83031611411  15548.201986568694   \n",
              "Salaries                 291825   63210.17288680958   44660.46230493864   \n",
              "Overtime                 291825   4406.877439766992  11079.405928192673   \n",
              "Other Salaries           291825   3781.032869870591   7697.665317297405   \n",
              "Total Salary             291825   71398.08319644183  52224.214098750745   \n",
              "Retirement               291825  12937.728957114685    9785.06480840167   \n",
              "Health/Dental            291825   8921.893731721031   4900.318082757292   \n",
              "Other Benefits           291825  4644.2764069562145  3787.9070104212783   \n",
              "Total Benefits           291825  26503.899095793855  16800.143146558938   \n",
              "Total Compensation       291825   97901.98229222857   67777.54915227571   \n",
              "\n",
              "                                                         3  \\\n",
              "summary                                                min   \n",
              "Year Type                                         Calendar   \n",
              "Year                                                2013.0   \n",
              "Organization Group Code                                1.0   \n",
              "Organization Group                        Community Health   \n",
              "Department Code                                        AAM   \n",
              "Department                             Academy of Sciences   \n",
              "Union Code                                             1.0   \n",
              "Union                    Automotive Machinists, Local 1414   \n",
              "Job Family Code                                       0900   \n",
              "Job Family                   Administrative & Mgmt (Unrep)   \n",
              "Job Code                                              0109   \n",
              "Job                                          Account Clerk   \n",
              "Employee Identifier                                    1.0   \n",
              "Salaries                                         -68771.78   \n",
              "Overtime                                         -12308.66   \n",
              "Other Salaries                                    -19131.1   \n",
              "Total Salary                                     -68771.78   \n",
              "Retirement                                       -30621.43   \n",
              "Health/Dental                                     -2940.47   \n",
              "Other Benefits                                    -10636.5   \n",
              "Total Benefits                                   -21295.15   \n",
              "Total Compensation                               -74082.61   \n",
              "\n",
              "                                                               4  \n",
              "summary                                                      max  \n",
              "Year Type                                                 Fiscal  \n",
              "Year                                                      2016.0  \n",
              "Organization Group Code                                      7.0  \n",
              "Organization Group       Public Works, Transportation & Commerce  \n",
              "Department Code                                              WTR  \n",
              "Department                                          War Memorial  \n",
              "Union Code                                                 990.0  \n",
              "Union                          Transportation Workers, Local 200  \n",
              "Job Family Code                                             SFRA  \n",
              "Job Family                             Supervisory-Labor & Trade  \n",
              "Job Code                                                    Q082  \n",
              "Job                                           Youth Comm Advisor  \n",
              "Employee Identifier                                      53794.0  \n",
              "Salaries                                                515101.8  \n",
              "Overtime                                               227313.62  \n",
              "Other Salaries                                         342802.63  \n",
              "Total Salary                                            515101.8  \n",
              "Retirement                                             105052.98  \n",
              "Health/Dental                                            21872.8  \n",
              "Other Benefits                                          35157.63  \n",
              "Total Benefits                                         141043.64  \n",
              "Total Compensation                                     653498.15  "
            ],
            "text/html": [
              "\n",
              "  <div id=\"df-24a6ca6b-4183-4851-ad5e-94aba04a56f8\">\n",
              "    <div class=\"colab-df-container\">\n",
              "      <div>\n",
              "<style scoped>\n",
              "    .dataframe tbody tr th:only-of-type {\n",
              "        vertical-align: middle;\n",
              "    }\n",
              "\n",
              "    .dataframe tbody tr th {\n",
              "        vertical-align: top;\n",
              "    }\n",
              "\n",
              "    .dataframe thead th {\n",
              "        text-align: right;\n",
              "    }\n",
              "</style>\n",
              "<table border=\"1\" class=\"dataframe\">\n",
              "  <thead>\n",
              "    <tr style=\"text-align: right;\">\n",
              "      <th></th>\n",
              "      <th>0</th>\n",
              "      <th>1</th>\n",
              "      <th>2</th>\n",
              "      <th>3</th>\n",
              "      <th>4</th>\n",
              "    </tr>\n",
              "  </thead>\n",
              "  <tbody>\n",
              "    <tr>\n",
              "      <th>summary</th>\n",
              "      <td>count</td>\n",
              "      <td>mean</td>\n",
              "      <td>stddev</td>\n",
              "      <td>min</td>\n",
              "      <td>max</td>\n",
              "    </tr>\n",
              "    <tr>\n",
              "      <th>Year Type</th>\n",
              "      <td>291825</td>\n",
              "      <td>None</td>\n",
              "      <td>None</td>\n",
              "      <td>Calendar</td>\n",
              "      <td>Fiscal</td>\n",
              "    </tr>\n",
              "    <tr>\n",
              "      <th>Year</th>\n",
              "      <td>291825</td>\n",
              "      <td>2014.325061252463</td>\n",
              "      <td>1.0322652725499475</td>\n",
              "      <td>2013.0</td>\n",
              "      <td>2016.0</td>\n",
              "    </tr>\n",
              "    <tr>\n",
              "      <th>Organization Group Code</th>\n",
              "      <td>291825</td>\n",
              "      <td>2.9770513150004283</td>\n",
              "      <td>1.5777709265315083</td>\n",
              "      <td>1.0</td>\n",
              "      <td>7.0</td>\n",
              "    </tr>\n",
              "    <tr>\n",
              "      <th>Organization Group</th>\n",
              "      <td>291825</td>\n",
              "      <td>None</td>\n",
              "      <td>None</td>\n",
              "      <td>Community Health</td>\n",
              "      <td>Public Works, Transportation &amp; Commerce</td>\n",
              "    </tr>\n",
              "    <tr>\n",
              "      <th>Department Code</th>\n",
              "      <td>291825</td>\n",
              "      <td>None</td>\n",
              "      <td>None</td>\n",
              "      <td>AAM</td>\n",
              "      <td>WTR</td>\n",
              "    </tr>\n",
              "    <tr>\n",
              "      <th>Department</th>\n",
              "      <td>291825</td>\n",
              "      <td>None</td>\n",
              "      <td>None</td>\n",
              "      <td>Academy of Sciences</td>\n",
              "      <td>War Memorial</td>\n",
              "    </tr>\n",
              "    <tr>\n",
              "      <th>Union Code</th>\n",
              "      <td>291782</td>\n",
              "      <td>489.5060764543392</td>\n",
              "      <td>333.7611361507317</td>\n",
              "      <td>1.0</td>\n",
              "      <td>990.0</td>\n",
              "    </tr>\n",
              "    <tr>\n",
              "      <th>Union</th>\n",
              "      <td>291782</td>\n",
              "      <td>None</td>\n",
              "      <td>None</td>\n",
              "      <td>Automotive Machinists, Local 1414</td>\n",
              "      <td>Transportation Workers, Local 200</td>\n",
              "    </tr>\n",
              "    <tr>\n",
              "      <th>Job Family Code</th>\n",
              "      <td>291780</td>\n",
              "      <td>4778.5595401977025</td>\n",
              "      <td>3090.28317174425</td>\n",
              "      <td>0900</td>\n",
              "      <td>SFRA</td>\n",
              "    </tr>\n",
              "    <tr>\n",
              "      <th>Job Family</th>\n",
              "      <td>291780</td>\n",
              "      <td>None</td>\n",
              "      <td>None</td>\n",
              "      <td>Administrative &amp; Mgmt (Unrep)</td>\n",
              "      <td>Supervisory-Labor &amp; Trade</td>\n",
              "    </tr>\n",
              "    <tr>\n",
              "      <th>Job Code</th>\n",
              "      <td>291825</td>\n",
              "      <td>4911.798751534337</td>\n",
              "      <td>3128.4123150253026</td>\n",
              "      <td>0109</td>\n",
              "      <td>Q082</td>\n",
              "    </tr>\n",
              "    <tr>\n",
              "      <th>Job</th>\n",
              "      <td>291825</td>\n",
              "      <td>None</td>\n",
              "      <td>None</td>\n",
              "      <td>Account Clerk</td>\n",
              "      <td>Youth Comm Advisor</td>\n",
              "    </tr>\n",
              "    <tr>\n",
              "      <th>Employee Identifier</th>\n",
              "      <td>291825</td>\n",
              "      <td>26917.83031611411</td>\n",
              "      <td>15548.201986568694</td>\n",
              "      <td>1.0</td>\n",
              "      <td>53794.0</td>\n",
              "    </tr>\n",
              "    <tr>\n",
              "      <th>Salaries</th>\n",
              "      <td>291825</td>\n",
              "      <td>63210.17288680958</td>\n",
              "      <td>44660.46230493864</td>\n",
              "      <td>-68771.78</td>\n",
              "      <td>515101.8</td>\n",
              "    </tr>\n",
              "    <tr>\n",
              "      <th>Overtime</th>\n",
              "      <td>291825</td>\n",
              "      <td>4406.877439766992</td>\n",
              "      <td>11079.405928192673</td>\n",
              "      <td>-12308.66</td>\n",
              "      <td>227313.62</td>\n",
              "    </tr>\n",
              "    <tr>\n",
              "      <th>Other Salaries</th>\n",
              "      <td>291825</td>\n",
              "      <td>3781.032869870591</td>\n",
              "      <td>7697.665317297405</td>\n",
              "      <td>-19131.1</td>\n",
              "      <td>342802.63</td>\n",
              "    </tr>\n",
              "    <tr>\n",
              "      <th>Total Salary</th>\n",
              "      <td>291825</td>\n",
              "      <td>71398.08319644183</td>\n",
              "      <td>52224.214098750745</td>\n",
              "      <td>-68771.78</td>\n",
              "      <td>515101.8</td>\n",
              "    </tr>\n",
              "    <tr>\n",
              "      <th>Retirement</th>\n",
              "      <td>291825</td>\n",
              "      <td>12937.728957114685</td>\n",
              "      <td>9785.06480840167</td>\n",
              "      <td>-30621.43</td>\n",
              "      <td>105052.98</td>\n",
              "    </tr>\n",
              "    <tr>\n",
              "      <th>Health/Dental</th>\n",
              "      <td>291825</td>\n",
              "      <td>8921.893731721031</td>\n",
              "      <td>4900.318082757292</td>\n",
              "      <td>-2940.47</td>\n",
              "      <td>21872.8</td>\n",
              "    </tr>\n",
              "    <tr>\n",
              "      <th>Other Benefits</th>\n",
              "      <td>291825</td>\n",
              "      <td>4644.2764069562145</td>\n",
              "      <td>3787.9070104212783</td>\n",
              "      <td>-10636.5</td>\n",
              "      <td>35157.63</td>\n",
              "    </tr>\n",
              "    <tr>\n",
              "      <th>Total Benefits</th>\n",
              "      <td>291825</td>\n",
              "      <td>26503.899095793855</td>\n",
              "      <td>16800.143146558938</td>\n",
              "      <td>-21295.15</td>\n",
              "      <td>141043.64</td>\n",
              "    </tr>\n",
              "    <tr>\n",
              "      <th>Total Compensation</th>\n",
              "      <td>291825</td>\n",
              "      <td>97901.98229222857</td>\n",
              "      <td>67777.54915227571</td>\n",
              "      <td>-74082.61</td>\n",
              "      <td>653498.15</td>\n",
              "    </tr>\n",
              "  </tbody>\n",
              "</table>\n",
              "</div>\n",
              "      <button class=\"colab-df-convert\" onclick=\"convertToInteractive('df-24a6ca6b-4183-4851-ad5e-94aba04a56f8')\"\n",
              "              title=\"Convert this dataframe to an interactive table.\"\n",
              "              style=\"display:none;\">\n",
              "        \n",
              "  <svg xmlns=\"http://www.w3.org/2000/svg\" height=\"24px\"viewBox=\"0 0 24 24\"\n",
              "       width=\"24px\">\n",
              "    <path d=\"M0 0h24v24H0V0z\" fill=\"none\"/>\n",
              "    <path d=\"M18.56 5.44l.94 2.06.94-2.06 2.06-.94-2.06-.94-.94-2.06-.94 2.06-2.06.94zm-11 1L8.5 8.5l.94-2.06 2.06-.94-2.06-.94L8.5 2.5l-.94 2.06-2.06.94zm10 10l.94 2.06.94-2.06 2.06-.94-2.06-.94-.94-2.06-.94 2.06-2.06.94z\"/><path d=\"M17.41 7.96l-1.37-1.37c-.4-.4-.92-.59-1.43-.59-.52 0-1.04.2-1.43.59L10.3 9.45l-7.72 7.72c-.78.78-.78 2.05 0 2.83L4 21.41c.39.39.9.59 1.41.59.51 0 1.02-.2 1.41-.59l7.78-7.78 2.81-2.81c.8-.78.8-2.07 0-2.86zM5.41 20L4 18.59l7.72-7.72 1.47 1.35L5.41 20z\"/>\n",
              "  </svg>\n",
              "      </button>\n",
              "      \n",
              "  <style>\n",
              "    .colab-df-container {\n",
              "      display:flex;\n",
              "      flex-wrap:wrap;\n",
              "      gap: 12px;\n",
              "    }\n",
              "\n",
              "    .colab-df-convert {\n",
              "      background-color: #E8F0FE;\n",
              "      border: none;\n",
              "      border-radius: 50%;\n",
              "      cursor: pointer;\n",
              "      display: none;\n",
              "      fill: #1967D2;\n",
              "      height: 32px;\n",
              "      padding: 0 0 0 0;\n",
              "      width: 32px;\n",
              "    }\n",
              "\n",
              "    .colab-df-convert:hover {\n",
              "      background-color: #E2EBFA;\n",
              "      box-shadow: 0px 1px 2px rgba(60, 64, 67, 0.3), 0px 1px 3px 1px rgba(60, 64, 67, 0.15);\n",
              "      fill: #174EA6;\n",
              "    }\n",
              "\n",
              "    [theme=dark] .colab-df-convert {\n",
              "      background-color: #3B4455;\n",
              "      fill: #D2E3FC;\n",
              "    }\n",
              "\n",
              "    [theme=dark] .colab-df-convert:hover {\n",
              "      background-color: #434B5C;\n",
              "      box-shadow: 0px 1px 3px 1px rgba(0, 0, 0, 0.15);\n",
              "      filter: drop-shadow(0px 1px 2px rgba(0, 0, 0, 0.3));\n",
              "      fill: #FFFFFF;\n",
              "    }\n",
              "  </style>\n",
              "\n",
              "      <script>\n",
              "        const buttonEl =\n",
              "          document.querySelector('#df-24a6ca6b-4183-4851-ad5e-94aba04a56f8 button.colab-df-convert');\n",
              "        buttonEl.style.display =\n",
              "          google.colab.kernel.accessAllowed ? 'block' : 'none';\n",
              "\n",
              "        async function convertToInteractive(key) {\n",
              "          const element = document.querySelector('#df-24a6ca6b-4183-4851-ad5e-94aba04a56f8');\n",
              "          const dataTable =\n",
              "            await google.colab.kernel.invokeFunction('convertToInteractive',\n",
              "                                                     [key], {});\n",
              "          if (!dataTable) return;\n",
              "\n",
              "          const docLinkHtml = 'Like what you see? Visit the ' +\n",
              "            '<a target=\"_blank\" href=https://colab.research.google.com/notebooks/data_table.ipynb>data table notebook</a>'\n",
              "            + ' to learn more about interactive tables.';\n",
              "          element.innerHTML = '';\n",
              "          dataTable['output_type'] = 'display_data';\n",
              "          await google.colab.output.renderOutput(dataTable, element);\n",
              "          const docLink = document.createElement('div');\n",
              "          docLink.innerHTML = docLinkHtml;\n",
              "          element.appendChild(docLink);\n",
              "        }\n",
              "      </script>\n",
              "    </div>\n",
              "  </div>\n",
              "  "
            ]
          },
          "metadata": {},
          "execution_count": 14
        }
      ]
    },
    {
      "cell_type": "code",
      "source": [
        "import pyspark.sql.functions as func\n",
        "\n",
        "for col_name in refinedDF.columns:\n",
        "  # rawDF = rawDF.withColumn(col_name, when(rawDF[col_name] < 0, float(\"NaN\")).otherwise(rawDF[col_name]))\n",
        "  refinedDF = refinedDF.withColumn(col_name, F.when(refinedDF[col_name] < 0, None).otherwise(refinedDF[col_name]))"
      ],
      "metadata": {
        "id": "ryKu_h3qsy_0"
      },
      "execution_count": null,
      "outputs": []
    },
    {
      "cell_type": "code",
      "source": [
        "refinedDF.describe().toPandas()"
      ],
      "metadata": {
        "colab": {
          "base_uri": "https://localhost:8080/",
          "height": 386
        },
        "id": "nbytWx7RtGpw",
        "outputId": "ba230559-af69-4cf1-b245-a93782c732b8"
      },
      "execution_count": null,
      "outputs": [
        {
          "output_type": "execute_result",
          "data": {
            "text/plain": [
              "  summary Year Type                Year Organization Group Code  \\\n",
              "0   count    291825              291825                  291825   \n",
              "1    mean      None   2014.325061252463      2.9770513150004283   \n",
              "2  stddev      None  1.0322652725499475      1.5777709265315083   \n",
              "3     min  Calendar              2013.0                     1.0   \n",
              "4     max    Fiscal              2016.0                     7.0   \n",
              "\n",
              "                        Organization Group Department Code  \\\n",
              "0                                   291825          291825   \n",
              "1                                     None            None   \n",
              "2                                     None            None   \n",
              "3                         Community Health             AAM   \n",
              "4  Public Works, Transportation & Commerce             WTR   \n",
              "\n",
              "            Department         Union Code                              Union  \\\n",
              "0               291825             291782                             291782   \n",
              "1                 None  489.5060764543392                               None   \n",
              "2                 None  333.7611361507317                               None   \n",
              "3  Academy of Sciences                1.0  Automotive Machinists, Local 1414   \n",
              "4         War Memorial              990.0  Transportation Workers, Local 200   \n",
              "\n",
              "      Job Family Code  ... Employee Identifier            Salaries  \\\n",
              "0              291780  ...              291825              291746   \n",
              "1  4778.5595401977025  ...   26917.83031611411  63228.037457011254   \n",
              "2    3090.28317174425  ...  15548.201986568694   44653.11304184088   \n",
              "3                0900  ...                 1.0                 0.0   \n",
              "4                SFRA  ...             53794.0            515101.8   \n",
              "\n",
              "             Overtime     Other Salaries        Total Salary  \\\n",
              "0              291795             291763              291774   \n",
              "1   4407.392725372273  3782.059353996173   71411.11328192928   \n",
              "2  11079.836678802836  7698.059385581305  52219.321660205824   \n",
              "3                 0.0                0.0                 0.0   \n",
              "4           227313.62          342802.63            515101.8   \n",
              "\n",
              "           Retirement      Health/Dental     Other Benefits  \\\n",
              "0              291403             291481             291146   \n",
              "1  12958.483113900646  8932.547398833873  4656.192969953201   \n",
              "2   9775.357283416884  4893.374699008634  3783.539892869415   \n",
              "3                 0.0                0.0                0.0   \n",
              "4           105052.98            21872.8           35157.63   \n",
              "\n",
              "       Total Benefits Total Compensation  \n",
              "0              291376             291579  \n",
              "1   26546.06917920503  97985.41488186597  \n",
              "2  16778.311516930185  67745.05335010726  \n",
              "3                 0.0                0.0  \n",
              "4           141043.64          653498.15  \n",
              "\n",
              "[5 rows x 23 columns]"
            ],
            "text/html": [
              "\n",
              "  <div id=\"df-11c868ca-c116-4593-8a5e-559957d509ea\">\n",
              "    <div class=\"colab-df-container\">\n",
              "      <div>\n",
              "<style scoped>\n",
              "    .dataframe tbody tr th:only-of-type {\n",
              "        vertical-align: middle;\n",
              "    }\n",
              "\n",
              "    .dataframe tbody tr th {\n",
              "        vertical-align: top;\n",
              "    }\n",
              "\n",
              "    .dataframe thead th {\n",
              "        text-align: right;\n",
              "    }\n",
              "</style>\n",
              "<table border=\"1\" class=\"dataframe\">\n",
              "  <thead>\n",
              "    <tr style=\"text-align: right;\">\n",
              "      <th></th>\n",
              "      <th>summary</th>\n",
              "      <th>Year Type</th>\n",
              "      <th>Year</th>\n",
              "      <th>Organization Group Code</th>\n",
              "      <th>Organization Group</th>\n",
              "      <th>Department Code</th>\n",
              "      <th>Department</th>\n",
              "      <th>Union Code</th>\n",
              "      <th>Union</th>\n",
              "      <th>Job Family Code</th>\n",
              "      <th>...</th>\n",
              "      <th>Employee Identifier</th>\n",
              "      <th>Salaries</th>\n",
              "      <th>Overtime</th>\n",
              "      <th>Other Salaries</th>\n",
              "      <th>Total Salary</th>\n",
              "      <th>Retirement</th>\n",
              "      <th>Health/Dental</th>\n",
              "      <th>Other Benefits</th>\n",
              "      <th>Total Benefits</th>\n",
              "      <th>Total Compensation</th>\n",
              "    </tr>\n",
              "  </thead>\n",
              "  <tbody>\n",
              "    <tr>\n",
              "      <th>0</th>\n",
              "      <td>count</td>\n",
              "      <td>291825</td>\n",
              "      <td>291825</td>\n",
              "      <td>291825</td>\n",
              "      <td>291825</td>\n",
              "      <td>291825</td>\n",
              "      <td>291825</td>\n",
              "      <td>291782</td>\n",
              "      <td>291782</td>\n",
              "      <td>291780</td>\n",
              "      <td>...</td>\n",
              "      <td>291825</td>\n",
              "      <td>291746</td>\n",
              "      <td>291795</td>\n",
              "      <td>291763</td>\n",
              "      <td>291774</td>\n",
              "      <td>291403</td>\n",
              "      <td>291481</td>\n",
              "      <td>291146</td>\n",
              "      <td>291376</td>\n",
              "      <td>291579</td>\n",
              "    </tr>\n",
              "    <tr>\n",
              "      <th>1</th>\n",
              "      <td>mean</td>\n",
              "      <td>None</td>\n",
              "      <td>2014.325061252463</td>\n",
              "      <td>2.9770513150004283</td>\n",
              "      <td>None</td>\n",
              "      <td>None</td>\n",
              "      <td>None</td>\n",
              "      <td>489.5060764543392</td>\n",
              "      <td>None</td>\n",
              "      <td>4778.5595401977025</td>\n",
              "      <td>...</td>\n",
              "      <td>26917.83031611411</td>\n",
              "      <td>63228.037457011254</td>\n",
              "      <td>4407.392725372273</td>\n",
              "      <td>3782.059353996173</td>\n",
              "      <td>71411.11328192928</td>\n",
              "      <td>12958.483113900646</td>\n",
              "      <td>8932.547398833873</td>\n",
              "      <td>4656.192969953201</td>\n",
              "      <td>26546.06917920503</td>\n",
              "      <td>97985.41488186597</td>\n",
              "    </tr>\n",
              "    <tr>\n",
              "      <th>2</th>\n",
              "      <td>stddev</td>\n",
              "      <td>None</td>\n",
              "      <td>1.0322652725499475</td>\n",
              "      <td>1.5777709265315083</td>\n",
              "      <td>None</td>\n",
              "      <td>None</td>\n",
              "      <td>None</td>\n",
              "      <td>333.7611361507317</td>\n",
              "      <td>None</td>\n",
              "      <td>3090.28317174425</td>\n",
              "      <td>...</td>\n",
              "      <td>15548.201986568694</td>\n",
              "      <td>44653.11304184088</td>\n",
              "      <td>11079.836678802836</td>\n",
              "      <td>7698.059385581305</td>\n",
              "      <td>52219.321660205824</td>\n",
              "      <td>9775.357283416884</td>\n",
              "      <td>4893.374699008634</td>\n",
              "      <td>3783.539892869415</td>\n",
              "      <td>16778.311516930185</td>\n",
              "      <td>67745.05335010726</td>\n",
              "    </tr>\n",
              "    <tr>\n",
              "      <th>3</th>\n",
              "      <td>min</td>\n",
              "      <td>Calendar</td>\n",
              "      <td>2013.0</td>\n",
              "      <td>1.0</td>\n",
              "      <td>Community Health</td>\n",
              "      <td>AAM</td>\n",
              "      <td>Academy of Sciences</td>\n",
              "      <td>1.0</td>\n",
              "      <td>Automotive Machinists, Local 1414</td>\n",
              "      <td>0900</td>\n",
              "      <td>...</td>\n",
              "      <td>1.0</td>\n",
              "      <td>0.0</td>\n",
              "      <td>0.0</td>\n",
              "      <td>0.0</td>\n",
              "      <td>0.0</td>\n",
              "      <td>0.0</td>\n",
              "      <td>0.0</td>\n",
              "      <td>0.0</td>\n",
              "      <td>0.0</td>\n",
              "      <td>0.0</td>\n",
              "    </tr>\n",
              "    <tr>\n",
              "      <th>4</th>\n",
              "      <td>max</td>\n",
              "      <td>Fiscal</td>\n",
              "      <td>2016.0</td>\n",
              "      <td>7.0</td>\n",
              "      <td>Public Works, Transportation &amp; Commerce</td>\n",
              "      <td>WTR</td>\n",
              "      <td>War Memorial</td>\n",
              "      <td>990.0</td>\n",
              "      <td>Transportation Workers, Local 200</td>\n",
              "      <td>SFRA</td>\n",
              "      <td>...</td>\n",
              "      <td>53794.0</td>\n",
              "      <td>515101.8</td>\n",
              "      <td>227313.62</td>\n",
              "      <td>342802.63</td>\n",
              "      <td>515101.8</td>\n",
              "      <td>105052.98</td>\n",
              "      <td>21872.8</td>\n",
              "      <td>35157.63</td>\n",
              "      <td>141043.64</td>\n",
              "      <td>653498.15</td>\n",
              "    </tr>\n",
              "  </tbody>\n",
              "</table>\n",
              "<p>5 rows × 23 columns</p>\n",
              "</div>\n",
              "      <button class=\"colab-df-convert\" onclick=\"convertToInteractive('df-11c868ca-c116-4593-8a5e-559957d509ea')\"\n",
              "              title=\"Convert this dataframe to an interactive table.\"\n",
              "              style=\"display:none;\">\n",
              "        \n",
              "  <svg xmlns=\"http://www.w3.org/2000/svg\" height=\"24px\"viewBox=\"0 0 24 24\"\n",
              "       width=\"24px\">\n",
              "    <path d=\"M0 0h24v24H0V0z\" fill=\"none\"/>\n",
              "    <path d=\"M18.56 5.44l.94 2.06.94-2.06 2.06-.94-2.06-.94-.94-2.06-.94 2.06-2.06.94zm-11 1L8.5 8.5l.94-2.06 2.06-.94-2.06-.94L8.5 2.5l-.94 2.06-2.06.94zm10 10l.94 2.06.94-2.06 2.06-.94-2.06-.94-.94-2.06-.94 2.06-2.06.94z\"/><path d=\"M17.41 7.96l-1.37-1.37c-.4-.4-.92-.59-1.43-.59-.52 0-1.04.2-1.43.59L10.3 9.45l-7.72 7.72c-.78.78-.78 2.05 0 2.83L4 21.41c.39.39.9.59 1.41.59.51 0 1.02-.2 1.41-.59l7.78-7.78 2.81-2.81c.8-.78.8-2.07 0-2.86zM5.41 20L4 18.59l7.72-7.72 1.47 1.35L5.41 20z\"/>\n",
              "  </svg>\n",
              "      </button>\n",
              "      \n",
              "  <style>\n",
              "    .colab-df-container {\n",
              "      display:flex;\n",
              "      flex-wrap:wrap;\n",
              "      gap: 12px;\n",
              "    }\n",
              "\n",
              "    .colab-df-convert {\n",
              "      background-color: #E8F0FE;\n",
              "      border: none;\n",
              "      border-radius: 50%;\n",
              "      cursor: pointer;\n",
              "      display: none;\n",
              "      fill: #1967D2;\n",
              "      height: 32px;\n",
              "      padding: 0 0 0 0;\n",
              "      width: 32px;\n",
              "    }\n",
              "\n",
              "    .colab-df-convert:hover {\n",
              "      background-color: #E2EBFA;\n",
              "      box-shadow: 0px 1px 2px rgba(60, 64, 67, 0.3), 0px 1px 3px 1px rgba(60, 64, 67, 0.15);\n",
              "      fill: #174EA6;\n",
              "    }\n",
              "\n",
              "    [theme=dark] .colab-df-convert {\n",
              "      background-color: #3B4455;\n",
              "      fill: #D2E3FC;\n",
              "    }\n",
              "\n",
              "    [theme=dark] .colab-df-convert:hover {\n",
              "      background-color: #434B5C;\n",
              "      box-shadow: 0px 1px 3px 1px rgba(0, 0, 0, 0.15);\n",
              "      filter: drop-shadow(0px 1px 2px rgba(0, 0, 0, 0.3));\n",
              "      fill: #FFFFFF;\n",
              "    }\n",
              "  </style>\n",
              "\n",
              "      <script>\n",
              "        const buttonEl =\n",
              "          document.querySelector('#df-11c868ca-c116-4593-8a5e-559957d509ea button.colab-df-convert');\n",
              "        buttonEl.style.display =\n",
              "          google.colab.kernel.accessAllowed ? 'block' : 'none';\n",
              "\n",
              "        async function convertToInteractive(key) {\n",
              "          const element = document.querySelector('#df-11c868ca-c116-4593-8a5e-559957d509ea');\n",
              "          const dataTable =\n",
              "            await google.colab.kernel.invokeFunction('convertToInteractive',\n",
              "                                                     [key], {});\n",
              "          if (!dataTable) return;\n",
              "\n",
              "          const docLinkHtml = 'Like what you see? Visit the ' +\n",
              "            '<a target=\"_blank\" href=https://colab.research.google.com/notebooks/data_table.ipynb>data table notebook</a>'\n",
              "            + ' to learn more about interactive tables.';\n",
              "          element.innerHTML = '';\n",
              "          dataTable['output_type'] = 'display_data';\n",
              "          await google.colab.output.renderOutput(dataTable, element);\n",
              "          const docLink = document.createElement('div');\n",
              "          docLink.innerHTML = docLinkHtml;\n",
              "          element.appendChild(docLink);\n",
              "        }\n",
              "      </script>\n",
              "    </div>\n",
              "  </div>\n",
              "  "
            ]
          },
          "metadata": {},
          "execution_count": 16
        }
      ]
    },
    {
      "cell_type": "code",
      "source": [
        "dropping_columns = ['Year','Organization Group','Department','Union',\n",
        "                   'Job Family Code','Job Family','Job','Employee Identifier','Total Salary']\n",
        "\n",
        "#dropping the columns\n",
        "for i in dropping_columns:\n",
        "  refinedDF = refinedDF.drop(i)"
      ],
      "metadata": {
        "id": "GGWeDDK9bIct"
      },
      "execution_count": null,
      "outputs": []
    },
    {
      "cell_type": "markdown",
      "metadata": {
        "application/vnd.databricks.v1+cell": {
          "inputWidgets": {},
          "nuid": "5b4a36b1-7f14-4a99-851e-492fd8ebb193",
          "showTitle": false,
          "title": ""
        },
        "id": "woI-NVRxQP0g"
      },
      "source": [
        "### 4. Perform Missing Value Analysis"
      ]
    },
    {
      "cell_type": "code",
      "execution_count": null,
      "metadata": {
        "collapsed": true,
        "id": "T7kTJJ_QQP0g",
        "colab": {
          "base_uri": "https://localhost:8080/"
        },
        "outputId": "901a1c46-b045-4eec-8ae6-39e785d25ddb"
      },
      "outputs": [
        {
          "output_type": "stream",
          "name": "stdout",
          "text": [
            "+---------+-----------------------+---------------+----------+--------+--------+--------+--------------+----------+-------------+--------------+--------------+------------------+\n",
            "|Year Type|Organization Group Code|Department Code|Union Code|Job Code|Salaries|Overtime|Other Salaries|Retirement|Health/Dental|Other Benefits|Total Benefits|Total Compensation|\n",
            "+---------+-----------------------+---------------+----------+--------+--------+--------+--------------+----------+-------------+--------------+--------------+------------------+\n",
            "|        0|                      0|              0|        43|       0|      79|      30|            62|       422|          344|           679|           449|               246|\n",
            "+---------+-----------------------+---------------+----------+--------+--------+--------+--------------+----------+-------------+--------------+--------------+------------------+\n",
            "\n"
          ]
        }
      ],
      "source": [
        "from pyspark.sql.functions import isnull, when, count, col\n",
        "refinedDF.select([count(when(isnull(c), c)).alias(c) for c in refinedDF.columns]).show()"
      ]
    },
    {
      "cell_type": "markdown",
      "metadata": {
        "application/vnd.databricks.v1+cell": {
          "inputWidgets": {},
          "nuid": "9cd43cd2-ed88-4edf-ba6f-7e7e6f2f65d1",
          "showTitle": false,
          "title": ""
        },
        "id": "K_KbHnjZQP0g"
      },
      "source": [
        "### 5. Exploratory Data Analysis"
      ]
    },
    {
      "cell_type": "code",
      "source": [
        "refinedDF = refinedDF.na.drop()"
      ],
      "metadata": {
        "id": "QcevTNFeq88x"
      },
      "execution_count": null,
      "outputs": []
    },
    {
      "cell_type": "code",
      "source": [
        "refinedDF.describe().toPandas()"
      ],
      "metadata": {
        "colab": {
          "base_uri": "https://localhost:8080/",
          "height": 287
        },
        "id": "NqEnIJtB55gP",
        "outputId": "eb238038-b81f-4dbb-d315-7aa9b17e417a"
      },
      "execution_count": null,
      "outputs": [
        {
          "output_type": "execute_result",
          "data": {
            "text/plain": [
              "  summary Year Type Organization Group Code Department Code  \\\n",
              "0   count    290348                  290348          290348   \n",
              "1    mean      None       2.974516786752449            None   \n",
              "2  stddev      None       1.578720129529133            None   \n",
              "3     min  Calendar                     1.0             AAM   \n",
              "4     max    Fiscal                     7.0             WTR   \n",
              "\n",
              "           Union Code            Job Code            Salaries  \\\n",
              "0              290348              290348              290348   \n",
              "1   488.6780862964443   4914.051834392377   63464.28794688854   \n",
              "2  333.81800306485326  3128.6994352092333  44584.810580813595   \n",
              "3                 1.0                0109                 0.0   \n",
              "4               990.0                Q082            515101.8   \n",
              "\n",
              "             Overtime     Other Salaries         Retirement  \\\n",
              "0              290348             290348             290348   \n",
              "1  4428.9518982738045  3776.793112058584  12992.41081133671   \n",
              "2  11103.097103077793  7620.245695416703  9767.174924191759   \n",
              "3                 0.0                0.0                0.0   \n",
              "4           227313.62          342802.63          105052.98   \n",
              "\n",
              "       Health/Dental     Other Benefits      Total Benefits Total Compensation  \n",
              "0             290348             290348              290348             290348  \n",
              "1  8962.368719741471  4665.159130526113  26619.938661606207  98289.97161881471  \n",
              "2  4875.482131943269  3782.560198233237  16750.737751121855  67671.28008713707  \n",
              "3                0.0                0.0                 0.0                0.0  \n",
              "4            21872.8           35157.63           141043.64          653498.15  "
            ],
            "text/html": [
              "\n",
              "  <div id=\"df-f00209c9-ba8b-430a-866c-1c5baa8a894a\">\n",
              "    <div class=\"colab-df-container\">\n",
              "      <div>\n",
              "<style scoped>\n",
              "    .dataframe tbody tr th:only-of-type {\n",
              "        vertical-align: middle;\n",
              "    }\n",
              "\n",
              "    .dataframe tbody tr th {\n",
              "        vertical-align: top;\n",
              "    }\n",
              "\n",
              "    .dataframe thead th {\n",
              "        text-align: right;\n",
              "    }\n",
              "</style>\n",
              "<table border=\"1\" class=\"dataframe\">\n",
              "  <thead>\n",
              "    <tr style=\"text-align: right;\">\n",
              "      <th></th>\n",
              "      <th>summary</th>\n",
              "      <th>Year Type</th>\n",
              "      <th>Organization Group Code</th>\n",
              "      <th>Department Code</th>\n",
              "      <th>Union Code</th>\n",
              "      <th>Job Code</th>\n",
              "      <th>Salaries</th>\n",
              "      <th>Overtime</th>\n",
              "      <th>Other Salaries</th>\n",
              "      <th>Retirement</th>\n",
              "      <th>Health/Dental</th>\n",
              "      <th>Other Benefits</th>\n",
              "      <th>Total Benefits</th>\n",
              "      <th>Total Compensation</th>\n",
              "    </tr>\n",
              "  </thead>\n",
              "  <tbody>\n",
              "    <tr>\n",
              "      <th>0</th>\n",
              "      <td>count</td>\n",
              "      <td>290348</td>\n",
              "      <td>290348</td>\n",
              "      <td>290348</td>\n",
              "      <td>290348</td>\n",
              "      <td>290348</td>\n",
              "      <td>290348</td>\n",
              "      <td>290348</td>\n",
              "      <td>290348</td>\n",
              "      <td>290348</td>\n",
              "      <td>290348</td>\n",
              "      <td>290348</td>\n",
              "      <td>290348</td>\n",
              "      <td>290348</td>\n",
              "    </tr>\n",
              "    <tr>\n",
              "      <th>1</th>\n",
              "      <td>mean</td>\n",
              "      <td>None</td>\n",
              "      <td>2.974516786752449</td>\n",
              "      <td>None</td>\n",
              "      <td>488.6780862964443</td>\n",
              "      <td>4914.051834392377</td>\n",
              "      <td>63464.28794688854</td>\n",
              "      <td>4428.9518982738045</td>\n",
              "      <td>3776.793112058584</td>\n",
              "      <td>12992.41081133671</td>\n",
              "      <td>8962.368719741471</td>\n",
              "      <td>4665.159130526113</td>\n",
              "      <td>26619.938661606207</td>\n",
              "      <td>98289.97161881471</td>\n",
              "    </tr>\n",
              "    <tr>\n",
              "      <th>2</th>\n",
              "      <td>stddev</td>\n",
              "      <td>None</td>\n",
              "      <td>1.578720129529133</td>\n",
              "      <td>None</td>\n",
              "      <td>333.81800306485326</td>\n",
              "      <td>3128.6994352092333</td>\n",
              "      <td>44584.810580813595</td>\n",
              "      <td>11103.097103077793</td>\n",
              "      <td>7620.245695416703</td>\n",
              "      <td>9767.174924191759</td>\n",
              "      <td>4875.482131943269</td>\n",
              "      <td>3782.560198233237</td>\n",
              "      <td>16750.737751121855</td>\n",
              "      <td>67671.28008713707</td>\n",
              "    </tr>\n",
              "    <tr>\n",
              "      <th>3</th>\n",
              "      <td>min</td>\n",
              "      <td>Calendar</td>\n",
              "      <td>1.0</td>\n",
              "      <td>AAM</td>\n",
              "      <td>1.0</td>\n",
              "      <td>0109</td>\n",
              "      <td>0.0</td>\n",
              "      <td>0.0</td>\n",
              "      <td>0.0</td>\n",
              "      <td>0.0</td>\n",
              "      <td>0.0</td>\n",
              "      <td>0.0</td>\n",
              "      <td>0.0</td>\n",
              "      <td>0.0</td>\n",
              "    </tr>\n",
              "    <tr>\n",
              "      <th>4</th>\n",
              "      <td>max</td>\n",
              "      <td>Fiscal</td>\n",
              "      <td>7.0</td>\n",
              "      <td>WTR</td>\n",
              "      <td>990.0</td>\n",
              "      <td>Q082</td>\n",
              "      <td>515101.8</td>\n",
              "      <td>227313.62</td>\n",
              "      <td>342802.63</td>\n",
              "      <td>105052.98</td>\n",
              "      <td>21872.8</td>\n",
              "      <td>35157.63</td>\n",
              "      <td>141043.64</td>\n",
              "      <td>653498.15</td>\n",
              "    </tr>\n",
              "  </tbody>\n",
              "</table>\n",
              "</div>\n",
              "      <button class=\"colab-df-convert\" onclick=\"convertToInteractive('df-f00209c9-ba8b-430a-866c-1c5baa8a894a')\"\n",
              "              title=\"Convert this dataframe to an interactive table.\"\n",
              "              style=\"display:none;\">\n",
              "        \n",
              "  <svg xmlns=\"http://www.w3.org/2000/svg\" height=\"24px\"viewBox=\"0 0 24 24\"\n",
              "       width=\"24px\">\n",
              "    <path d=\"M0 0h24v24H0V0z\" fill=\"none\"/>\n",
              "    <path d=\"M18.56 5.44l.94 2.06.94-2.06 2.06-.94-2.06-.94-.94-2.06-.94 2.06-2.06.94zm-11 1L8.5 8.5l.94-2.06 2.06-.94-2.06-.94L8.5 2.5l-.94 2.06-2.06.94zm10 10l.94 2.06.94-2.06 2.06-.94-2.06-.94-.94-2.06-.94 2.06-2.06.94z\"/><path d=\"M17.41 7.96l-1.37-1.37c-.4-.4-.92-.59-1.43-.59-.52 0-1.04.2-1.43.59L10.3 9.45l-7.72 7.72c-.78.78-.78 2.05 0 2.83L4 21.41c.39.39.9.59 1.41.59.51 0 1.02-.2 1.41-.59l7.78-7.78 2.81-2.81c.8-.78.8-2.07 0-2.86zM5.41 20L4 18.59l7.72-7.72 1.47 1.35L5.41 20z\"/>\n",
              "  </svg>\n",
              "      </button>\n",
              "      \n",
              "  <style>\n",
              "    .colab-df-container {\n",
              "      display:flex;\n",
              "      flex-wrap:wrap;\n",
              "      gap: 12px;\n",
              "    }\n",
              "\n",
              "    .colab-df-convert {\n",
              "      background-color: #E8F0FE;\n",
              "      border: none;\n",
              "      border-radius: 50%;\n",
              "      cursor: pointer;\n",
              "      display: none;\n",
              "      fill: #1967D2;\n",
              "      height: 32px;\n",
              "      padding: 0 0 0 0;\n",
              "      width: 32px;\n",
              "    }\n",
              "\n",
              "    .colab-df-convert:hover {\n",
              "      background-color: #E2EBFA;\n",
              "      box-shadow: 0px 1px 2px rgba(60, 64, 67, 0.3), 0px 1px 3px 1px rgba(60, 64, 67, 0.15);\n",
              "      fill: #174EA6;\n",
              "    }\n",
              "\n",
              "    [theme=dark] .colab-df-convert {\n",
              "      background-color: #3B4455;\n",
              "      fill: #D2E3FC;\n",
              "    }\n",
              "\n",
              "    [theme=dark] .colab-df-convert:hover {\n",
              "      background-color: #434B5C;\n",
              "      box-shadow: 0px 1px 3px 1px rgba(0, 0, 0, 0.15);\n",
              "      filter: drop-shadow(0px 1px 2px rgba(0, 0, 0, 0.3));\n",
              "      fill: #FFFFFF;\n",
              "    }\n",
              "  </style>\n",
              "\n",
              "      <script>\n",
              "        const buttonEl =\n",
              "          document.querySelector('#df-f00209c9-ba8b-430a-866c-1c5baa8a894a button.colab-df-convert');\n",
              "        buttonEl.style.display =\n",
              "          google.colab.kernel.accessAllowed ? 'block' : 'none';\n",
              "\n",
              "        async function convertToInteractive(key) {\n",
              "          const element = document.querySelector('#df-f00209c9-ba8b-430a-866c-1c5baa8a894a');\n",
              "          const dataTable =\n",
              "            await google.colab.kernel.invokeFunction('convertToInteractive',\n",
              "                                                     [key], {});\n",
              "          if (!dataTable) return;\n",
              "\n",
              "          const docLinkHtml = 'Like what you see? Visit the ' +\n",
              "            '<a target=\"_blank\" href=https://colab.research.google.com/notebooks/data_table.ipynb>data table notebook</a>'\n",
              "            + ' to learn more about interactive tables.';\n",
              "          element.innerHTML = '';\n",
              "          dataTable['output_type'] = 'display_data';\n",
              "          await google.colab.output.renderOutput(dataTable, element);\n",
              "          const docLink = document.createElement('div');\n",
              "          docLink.innerHTML = docLinkHtml;\n",
              "          element.appendChild(docLink);\n",
              "        }\n",
              "      </script>\n",
              "    </div>\n",
              "  </div>\n",
              "  "
            ]
          },
          "metadata": {},
          "execution_count": 20
        }
      ]
    },
    {
      "cell_type": "code",
      "source": [
        "from pyspark.sql.functions import isnull, when, count, col\n",
        "refinedDF.select([count(when(isnull(c), c)).alias(c) for c in refinedDF.columns]).show()"
      ],
      "metadata": {
        "colab": {
          "base_uri": "https://localhost:8080/"
        },
        "id": "jDt36KWHobOf",
        "outputId": "db5328f2-49a3-4746-9762-8a85c1452818"
      },
      "execution_count": null,
      "outputs": [
        {
          "output_type": "stream",
          "name": "stdout",
          "text": [
            "+---------+-----------------------+---------------+----------+--------+--------+--------+--------------+----------+-------------+--------------+--------------+------------------+\n",
            "|Year Type|Organization Group Code|Department Code|Union Code|Job Code|Salaries|Overtime|Other Salaries|Retirement|Health/Dental|Other Benefits|Total Benefits|Total Compensation|\n",
            "+---------+-----------------------+---------------+----------+--------+--------+--------+--------------+----------+-------------+--------------+--------------+------------------+\n",
            "|        0|                      0|              0|         0|       0|       0|       0|             0|         0|            0|             0|             0|                 0|\n",
            "+---------+-----------------------+---------------+----------+--------+--------+--------+--------------+----------+-------------+--------------+--------------+------------------+\n",
            "\n"
          ]
        }
      ]
    },
    {
      "cell_type": "markdown",
      "metadata": {
        "application/vnd.databricks.v1+cell": {
          "inputWidgets": {},
          "nuid": "44aa560c-5c6a-4188-a740-5e49cd147b26",
          "showTitle": false,
          "title": ""
        },
        "id": "5hea56hUQP0h"
      },
      "source": [
        "#### 5.1. Find top compensating organizations. Display using bar plot"
      ]
    },
    {
      "cell_type": "code",
      "source": [
        "import pyspark.sql.functions as F\n",
        "from pyspark.sql.functions import desc\n",
        "\n",
        "org_df = rawDF.groupby('Organization Group').max().select(['Organization Group', 'max(Total Compensation)']).orderBy(desc(\"max(Total Compensation)\"))\n",
        "\n",
        "org_df.show()"
      ],
      "metadata": {
        "colab": {
          "base_uri": "https://localhost:8080/"
        },
        "id": "aENfkkpJ6t4z",
        "outputId": "d8722938-a61b-4ae9-bb52-4effe1d1fca8"
      },
      "execution_count": null,
      "outputs": [
        {
          "output_type": "stream",
          "name": "stdout",
          "text": [
            "+--------------------+-----------------------+\n",
            "|  Organization Group|max(Total Compensation)|\n",
            "+--------------------+-----------------------+\n",
            "|General Administr...|              653498.15|\n",
            "|   Public Protection|              510574.44|\n",
            "|Public Works, Tra...|              430872.68|\n",
            "|    Community Health|              422799.94|\n",
            "|Human Welfare & N...|               372586.3|\n",
            "|Culture & Recreation|              318713.18|\n",
            "|General City Resp...|              137930.88|\n",
            "+--------------------+-----------------------+\n",
            "\n"
          ]
        }
      ]
    },
    {
      "cell_type": "code",
      "execution_count": null,
      "metadata": {
        "collapsed": true,
        "id": "kpaIAoMQQP0h",
        "colab": {
          "base_uri": "https://localhost:8080/",
          "height": 492
        },
        "outputId": "41cb4e07-2f6d-4791-d693-5b364cffc03f"
      },
      "outputs": [
        {
          "output_type": "execute_result",
          "data": {
            "text/plain": [
              "<BarContainer object of 7 artists>"
            ]
          },
          "metadata": {},
          "execution_count": 23
        },
        {
          "output_type": "display_data",
          "data": {
            "text/plain": [
              "<Figure size 1800x720 with 1 Axes>"
            ],
            "image/png": "[encoded data removed]"
          },
          "metadata": {
            "needs_background": "light"
          }
        }
      ],
      "source": [
        "fig = plt.figure(figsize =(25, 10))\n",
        "\n",
        "org_df=org_df.toPandas()\n",
        "plt.bar(org_df[\"Organization Group\"], org_df[\"max(Total Compensation)\"])"
      ]
    },
    {
      "cell_type": "markdown",
      "metadata": {
        "application/vnd.databricks.v1+cell": {
          "inputWidgets": {},
          "nuid": "c991e941-045b-4556-ba17-f9c5454fdf06",
          "showTitle": false,
          "title": ""
        },
        "id": "hijeAEfXQP0h"
      },
      "source": [
        "#### 5.2. Find top Compensating Jobs. Display using bar plot"
      ]
    },
    {
      "cell_type": "code",
      "execution_count": null,
      "metadata": {
        "collapsed": true,
        "id": "AmdpJh5vQP0h",
        "colab": {
          "base_uri": "https://localhost:8080/"
        },
        "outputId": "4539916b-d56b-469f-a487-a8c3a561904f"
      },
      "outputs": [
        {
          "output_type": "stream",
          "name": "stdout",
          "text": [
            "+--------------------+-----------------------+\n",
            "|                 Job|max(Total Compensation)|\n",
            "+--------------------+-----------------------+\n",
            "|Chief Investment ...|              653498.15|\n",
            "|      Deputy Chief 3|              510574.44|\n",
            "|   Asst Med Examiner|               497505.0|\n",
            "|     Chief Of Police|              466798.21|\n",
            "|         Dept Head V|              433302.72|\n",
            "|Chief, Fire Depar...|              426006.85|\n",
            "|Battlion Chief, F...|              425605.01|\n",
            "|Adm, SFGH Medical...|              422799.94|\n",
            "|Executive Contrac...|              422019.78|\n",
            "|Senior Physician ...|              418013.58|\n",
            "|Gen Mgr, Public T...|              410459.56|\n",
            "|Asst Chf Of Dept ...|              406063.04|\n",
            "|Dep Dir For Inves...|              403743.76|\n",
            "|      Deputy Sheriff|              402204.51|\n",
            "|Administrator, De...|              395626.45|\n",
            "|Supervising Physi...|              390385.45|\n",
            "|               Mayor|              382624.61|\n",
            "|Lieutenant, Fire ...|              376938.29|\n",
            "|Dep Chf Of Dept (...|              376513.82|\n",
            "|         Commander 3|              373599.91|\n",
            "+--------------------+-----------------------+\n",
            "only showing top 20 rows\n",
            "\n"
          ]
        }
      ],
      "source": [
        "job_df = rawDF.groupby('Job').max().select(['Job', 'max(Total Compensation)']).orderBy(desc(\"max(Total Compensation)\"))\n",
        "\n",
        "job_df.show()"
      ]
    },
    {
      "cell_type": "code",
      "source": [
        "fig = plt.figure(figsize =(25, 10))\n",
        "\n",
        "#job_df = job_df.toPandas().head(10)\n",
        "#job_df = df.groupby('Job').max().select(['Job', 'max(Total Compensation)']).orderBy(desc(\"max(Total Compensation)\"))\n",
        "jobDF = rawDF[['Job','Total Compensation']].groupby('Job').max('Total Compensation').sort(desc(\"max(Total Compensation)\")).toPandas().head(10)\n",
        "plt.bar(jobDF[\"Job\"], jobDF[\"max(Total Compensation)\"])"
      ],
      "metadata": {
        "colab": {
          "base_uri": "https://localhost:8080/",
          "height": 492
        },
        "id": "_vzIa6nj9shK",
        "outputId": "d5abc0eb-5143-4277-fe95-b5f492ad79c4"
      },
      "execution_count": null,
      "outputs": [
        {
          "output_type": "execute_result",
          "data": {
            "text/plain": [
              "<BarContainer object of 10 artists>"
            ]
          },
          "metadata": {},
          "execution_count": 25
        },
        {
          "output_type": "display_data",
          "data": {
            "text/plain": [
              "<Figure size 1800x720 with 1 Axes>"
            ],
            "image/png": "[encoded data removed]"
          },
          "metadata": {
            "needs_background": "light"
          }
        }
      ]
    },
    {
      "cell_type": "markdown",
      "metadata": {
        "application/vnd.databricks.v1+cell": {
          "inputWidgets": {},
          "nuid": "1ffac626-b0f9-45f4-b780-c1c06edf6dd1",
          "showTitle": false,
          "title": ""
        },
        "id": "txsSQSvNQP0h"
      },
      "source": [
        "#### 5.3. Check Correlation of Target Variable with Other Independent Variables. Plot Heatmap"
      ]
    },
    {
      "cell_type": "code",
      "execution_count": null,
      "metadata": {
        "collapsed": true,
        "id": "NFo9Q21lQP0h",
        "colab": {
          "base_uri": "https://localhost:8080/"
        },
        "outputId": "1c6479d6-a492-41aa-a6a6-0baa9ad0f127"
      },
      "outputs": [
        {
          "output_type": "stream",
          "name": "stdout",
          "text": [
            "+-----------------------+----------+---------+--------+--------------+----------+-------------+--------------+--------------+------------------+\n",
            "|Organization Group Code|Union Code| Salaries|Overtime|Other Salaries|Retirement|Health/Dental|Other Benefits|Total Benefits|Total Compensation|\n",
            "+-----------------------+----------+---------+--------+--------------+----------+-------------+--------------+--------------+------------------+\n",
            "|                      1|       311|114473.16|     0.0|        1500.0|  21025.98|      13068.8|       9368.71|      43463.49|         159436.65|\n",
            "|                      5|       790| 84077.11|     0.0|           0.0|   16587.3|     12457.73|       6931.91|      35976.94|         120054.05|\n",
            "|                      4|       535|  9980.17|     0.0|        798.43|       0.0|      2254.93|        835.11|       3090.04|          13868.64|\n",
            "|                      4|       250|  2873.41|     0.0|           0.0|       0.0|       622.63|        222.46|        845.09|            3718.5|\n",
            "|                      5|       790|  6701.85|     0.0|         176.7|       0.0|      2711.66|        538.43|       3250.09|          10128.64|\n",
            "|                      2|        21| 45321.18|     0.0|           0.0|   9386.03|      11780.6|       3486.34|      24652.97|          69974.15|\n",
            "|                      5|       790|  28305.5|     0.0|       1193.14|   6616.52|      5793.48|       2430.74|      14840.74|          44339.38|\n",
            "|                      6|        21| 39938.09|     0.0|         800.0|   8685.34|      7269.02|       3277.52|      19231.88|          59969.97|\n",
            "|                      1|       911|  23112.0| 2312.73|      20944.16|   4183.12|      1911.46|         68.84|       6163.42|          52532.31|\n",
            "|                      1|       498| 89101.22| 6856.77|       5563.78|  17596.33|     12512.55|       1627.91|      31736.79|         133258.56|\n",
            "|                      2|       790|  7091.33|     0.0|           0.0|       0.0|      2361.82|        549.01|       2910.83|          10002.16|\n",
            "|                      2|        21| 57467.12|  355.65|           0.0|  11901.38|     11933.98|       4691.34|       28526.7|          86349.47|\n",
            "|                      5|       261|  80357.0| 5612.97|           7.9|  16562.14|      12424.5|       7091.69|      36078.33|          122056.2|\n",
            "|                      2|       253| 64170.89|13128.97|       2677.81|  17109.68|     13379.17|       6204.01|      36692.86|         116670.53|\n",
            "|                      3|        22| 83038.01|     0.0|         200.0|  15490.62|      13068.8|       6525.06|      35084.48|         118322.49|\n",
            "|                      6|        16| 92530.82|     0.0|      13412.58|  20224.21|     13054.94|       8450.17|      41729.32|         147672.72|\n",
            "|                      2|       253| 44381.77|11166.58|       2694.49|   13602.2|       8826.1|        4423.7|       26852.0|          85094.84|\n",
            "|                      2|       790|  78639.3|20332.03|       7821.87|  17683.84|     12512.54|       8707.07|      38903.45|         145696.65|\n",
            "|                      1|       311|176267.41|     0.0|        1250.0|  36959.07|     12512.55|      10479.18|       59950.8|         237468.21|\n",
            "|                      2|        38|100655.41| 8240.09|      16911.85|  24354.06|     12500.56|       9962.73|      46817.35|          172624.7|\n",
            "+-----------------------+----------+---------+--------+--------------+----------+-------------+--------------+--------------+------------------+\n",
            "only showing top 20 rows\n",
            "\n"
          ]
        },
        {
          "output_type": "execute_result",
          "data": {
            "text/plain": [
              "10"
            ]
          },
          "metadata": {},
          "execution_count": 26
        }
      ],
      "source": [
        "# Finding numerical columns/features for corelation analysis and to plot HeatMap\n",
        "\n",
        "numeric_features = [t[0] for t in refinedDF.dtypes if t[1] !='string']\n",
        "numeric_features_df = rawDF.select(numeric_features)\n",
        "#numeric_features_df.toPandas()\n",
        "numeric_features_df.show()\n",
        "len(numeric_features_df.columns)"
      ]
    },
    {
      "cell_type": "code",
      "source": [
        "col_names = numeric_features_df.columns\n",
        "features = numeric_features_df.rdd.map(lambda row: row[0:])"
      ],
      "metadata": {
        "id": "IF1z3V6P-ZNu"
      },
      "execution_count": null,
      "outputs": []
    },
    {
      "cell_type": "code",
      "source": [
        "from pyspark.mllib.stat import Statistics\n",
        "import pandas as pd\n",
        "\n",
        "corr_mat = Statistics.corr(features, method=\"pearson\")\n",
        "corr_df = pd.DataFrame(corr_mat)\n",
        "corr_df.index = col_names\n",
        "corr_df.columns = col_names\n",
        "round(corr_df, 2)"
      ],
      "metadata": {
        "colab": {
          "base_uri": "https://localhost:8080/",
          "height": 441
        },
        "id": "N53u5orC-j9e",
        "outputId": "9b93b9bd-90b6-4356-dac6-5853ff8f09cf"
      },
      "execution_count": null,
      "outputs": [
        {
          "output_type": "execute_result",
          "data": {
            "text/plain": [
              "                         Organization Group Code  Union Code  Salaries  \\\n",
              "Organization Group Code                     1.00         NaN     -0.22   \n",
              "Union Code                                   NaN         1.0       NaN   \n",
              "Salaries                                   -0.22         NaN      1.00   \n",
              "Overtime                                   -0.30         NaN      0.27   \n",
              "Other Salaries                             -0.23         NaN      0.32   \n",
              "Retirement                                 -0.25         NaN      0.95   \n",
              "Health/Dental                              -0.23         NaN      0.77   \n",
              "Other Benefits                              0.03         NaN      0.70   \n",
              "Total Benefits                             -0.21         NaN      0.94   \n",
              "Total Compensation                         -0.27         NaN      0.97   \n",
              "\n",
              "                         Overtime  Other Salaries  Retirement  Health/Dental  \\\n",
              "Organization Group Code     -0.30           -0.23       -0.25          -0.23   \n",
              "Union Code                    NaN             NaN         NaN            NaN   \n",
              "Salaries                     0.27            0.32        0.95           0.77   \n",
              "Overtime                     1.00            0.35        0.31           0.31   \n",
              "Other Salaries               0.35            1.00        0.34           0.21   \n",
              "Retirement                   0.31            0.34        1.00           0.79   \n",
              "Health/Dental                0.31            0.21        0.79           1.00   \n",
              "Other Benefits               0.06            0.04        0.67           0.60   \n",
              "Total Benefits               0.29            0.27        0.97           0.89   \n",
              "Total Compensation           0.45            0.45        0.96           0.81   \n",
              "\n",
              "                         Other Benefits  Total Benefits  Total Compensation  \n",
              "Organization Group Code            0.03           -0.21               -0.27  \n",
              "Union Code                          NaN             NaN                 NaN  \n",
              "Salaries                           0.70            0.94                0.97  \n",
              "Overtime                           0.06            0.29                0.45  \n",
              "Other Salaries                     0.04            0.27                0.45  \n",
              "Retirement                         0.67            0.97                0.96  \n",
              "Health/Dental                      0.60            0.89                0.81  \n",
              "Other Benefits                     1.00            0.79                0.67  \n",
              "Total Benefits                     0.79            1.00                0.94  \n",
              "Total Compensation                 0.67            0.94                1.00  "
            ],
            "text/html": [
              "\n",
              "  <div id=\"df-21a96c6a-8715-4511-9769-4e6d9b34da8f\">\n",
              "    <div class=\"colab-df-container\">\n",
              "      <div>\n",
              "<style scoped>\n",
              "    .dataframe tbody tr th:only-of-type {\n",
              "        vertical-align: middle;\n",
              "    }\n",
              "\n",
              "    .dataframe tbody tr th {\n",
              "        vertical-align: top;\n",
              "    }\n",
              "\n",
              "    .dataframe thead th {\n",
              "        text-align: right;\n",
              "    }\n",
              "</style>\n",
              "<table border=\"1\" class=\"dataframe\">\n",
              "  <thead>\n",
              "    <tr style=\"text-align: right;\">\n",
              "      <th></th>\n",
              "      <th>Organization Group Code</th>\n",
              "      <th>Union Code</th>\n",
              "      <th>Salaries</th>\n",
              "      <th>Overtime</th>\n",
              "      <th>Other Salaries</th>\n",
              "      <th>Retirement</th>\n",
              "      <th>Health/Dental</th>\n",
              "      <th>Other Benefits</th>\n",
              "      <th>Total Benefits</th>\n",
              "      <th>Total Compensation</th>\n",
              "    </tr>\n",
              "  </thead>\n",
              "  <tbody>\n",
              "    <tr>\n",
              "      <th>Organization Group Code</th>\n",
              "      <td>1.00</td>\n",
              "      <td>NaN</td>\n",
              "      <td>-0.22</td>\n",
              "      <td>-0.30</td>\n",
              "      <td>-0.23</td>\n",
              "      <td>-0.25</td>\n",
              "      <td>-0.23</td>\n",
              "      <td>0.03</td>\n",
              "      <td>-0.21</td>\n",
              "      <td>-0.27</td>\n",
              "    </tr>\n",
              "    <tr>\n",
              "      <th>Union Code</th>\n",
              "      <td>NaN</td>\n",
              "      <td>1.0</td>\n",
              "      <td>NaN</td>\n",
              "      <td>NaN</td>\n",
              "      <td>NaN</td>\n",
              "      <td>NaN</td>\n",
              "      <td>NaN</td>\n",
              "      <td>NaN</td>\n",
              "      <td>NaN</td>\n",
              "      <td>NaN</td>\n",
              "    </tr>\n",
              "    <tr>\n",
              "      <th>Salaries</th>\n",
              "      <td>-0.22</td>\n",
              "      <td>NaN</td>\n",
              "      <td>1.00</td>\n",
              "      <td>0.27</td>\n",
              "      <td>0.32</td>\n",
              "      <td>0.95</td>\n",
              "      <td>0.77</td>\n",
              "      <td>0.70</td>\n",
              "      <td>0.94</td>\n",
              "      <td>0.97</td>\n",
              "    </tr>\n",
              "    <tr>\n",
              "      <th>Overtime</th>\n",
              "      <td>-0.30</td>\n",
              "      <td>NaN</td>\n",
              "      <td>0.27</td>\n",
              "      <td>1.00</td>\n",
              "      <td>0.35</td>\n",
              "      <td>0.31</td>\n",
              "      <td>0.31</td>\n",
              "      <td>0.06</td>\n",
              "      <td>0.29</td>\n",
              "      <td>0.45</td>\n",
              "    </tr>\n",
              "    <tr>\n",
              "      <th>Other Salaries</th>\n",
              "      <td>-0.23</td>\n",
              "      <td>NaN</td>\n",
              "      <td>0.32</td>\n",
              "      <td>0.35</td>\n",
              "      <td>1.00</td>\n",
              "      <td>0.34</td>\n",
              "      <td>0.21</td>\n",
              "      <td>0.04</td>\n",
              "      <td>0.27</td>\n",
              "      <td>0.45</td>\n",
              "    </tr>\n",
              "    <tr>\n",
              "      <th>Retirement</th>\n",
              "      <td>-0.25</td>\n",
              "      <td>NaN</td>\n",
              "      <td>0.95</td>\n",
              "      <td>0.31</td>\n",
              "      <td>0.34</td>\n",
              "      <td>1.00</td>\n",
              "      <td>0.79</td>\n",
              "      <td>0.67</td>\n",
              "      <td>0.97</td>\n",
              "      <td>0.96</td>\n",
              "    </tr>\n",
              "    <tr>\n",
              "      <th>Health/Dental</th>\n",
              "      <td>-0.23</td>\n",
              "      <td>NaN</td>\n",
              "      <td>0.77</td>\n",
              "      <td>0.31</td>\n",
              "      <td>0.21</td>\n",
              "      <td>0.79</td>\n",
              "      <td>1.00</td>\n",
              "      <td>0.60</td>\n",
              "      <td>0.89</td>\n",
              "      <td>0.81</td>\n",
              "    </tr>\n",
              "    <tr>\n",
              "      <th>Other Benefits</th>\n",
              "      <td>0.03</td>\n",
              "      <td>NaN</td>\n",
              "      <td>0.70</td>\n",
              "      <td>0.06</td>\n",
              "      <td>0.04</td>\n",
              "      <td>0.67</td>\n",
              "      <td>0.60</td>\n",
              "      <td>1.00</td>\n",
              "      <td>0.79</td>\n",
              "      <td>0.67</td>\n",
              "    </tr>\n",
              "    <tr>\n",
              "      <th>Total Benefits</th>\n",
              "      <td>-0.21</td>\n",
              "      <td>NaN</td>\n",
              "      <td>0.94</td>\n",
              "      <td>0.29</td>\n",
              "      <td>0.27</td>\n",
              "      <td>0.97</td>\n",
              "      <td>0.89</td>\n",
              "      <td>0.79</td>\n",
              "      <td>1.00</td>\n",
              "      <td>0.94</td>\n",
              "    </tr>\n",
              "    <tr>\n",
              "      <th>Total Compensation</th>\n",
              "      <td>-0.27</td>\n",
              "      <td>NaN</td>\n",
              "      <td>0.97</td>\n",
              "      <td>0.45</td>\n",
              "      <td>0.45</td>\n",
              "      <td>0.96</td>\n",
              "      <td>0.81</td>\n",
              "      <td>0.67</td>\n",
              "      <td>0.94</td>\n",
              "      <td>1.00</td>\n",
              "    </tr>\n",
              "  </tbody>\n",
              "</table>\n",
              "</div>\n",
              "      <button class=\"colab-df-convert\" onclick=\"convertToInteractive('df-21a96c6a-8715-4511-9769-4e6d9b34da8f')\"\n",
              "              title=\"Convert this dataframe to an interactive table.\"\n",
              "              style=\"display:none;\">\n",
              "        \n",
              "  <svg xmlns=\"http://www.w3.org/2000/svg\" height=\"24px\"viewBox=\"0 0 24 24\"\n",
              "       width=\"24px\">\n",
              "    <path d=\"M0 0h24v24H0V0z\" fill=\"none\"/>\n",
              "    <path d=\"M18.56 5.44l.94 2.06.94-2.06 2.06-.94-2.06-.94-.94-2.06-.94 2.06-2.06.94zm-11 1L8.5 8.5l.94-2.06 2.06-.94-2.06-.94L8.5 2.5l-.94 2.06-2.06.94zm10 10l.94 2.06.94-2.06 2.06-.94-2.06-.94-.94-2.06-.94 2.06-2.06.94z\"/><path d=\"M17.41 7.96l-1.37-1.37c-.4-.4-.92-.59-1.43-.59-.52 0-1.04.2-1.43.59L10.3 9.45l-7.72 7.72c-.78.78-.78 2.05 0 2.83L4 21.41c.39.39.9.59 1.41.59.51 0 1.02-.2 1.41-.59l7.78-7.78 2.81-2.81c.8-.78.8-2.07 0-2.86zM5.41 20L4 18.59l7.72-7.72 1.47 1.35L5.41 20z\"/>\n",
              "  </svg>\n",
              "      </button>\n",
              "      \n",
              "  <style>\n",
              "    .colab-df-container {\n",
              "      display:flex;\n",
              "      flex-wrap:wrap;\n",
              "      gap: 12px;\n",
              "    }\n",
              "\n",
              "    .colab-df-convert {\n",
              "      background-color: #E8F0FE;\n",
              "      border: none;\n",
              "      border-radius: 50%;\n",
              "      cursor: pointer;\n",
              "      display: none;\n",
              "      fill: #1967D2;\n",
              "      height: 32px;\n",
              "      padding: 0 0 0 0;\n",
              "      width: 32px;\n",
              "    }\n",
              "\n",
              "    .colab-df-convert:hover {\n",
              "      background-color: #E2EBFA;\n",
              "      box-shadow: 0px 1px 2px rgba(60, 64, 67, 0.3), 0px 1px 3px 1px rgba(60, 64, 67, 0.15);\n",
              "      fill: #174EA6;\n",
              "    }\n",
              "\n",
              "    [theme=dark] .colab-df-convert {\n",
              "      background-color: #3B4455;\n",
              "      fill: #D2E3FC;\n",
              "    }\n",
              "\n",
              "    [theme=dark] .colab-df-convert:hover {\n",
              "      background-color: #434B5C;\n",
              "      box-shadow: 0px 1px 3px 1px rgba(0, 0, 0, 0.15);\n",
              "      filter: drop-shadow(0px 1px 2px rgba(0, 0, 0, 0.3));\n",
              "      fill: #FFFFFF;\n",
              "    }\n",
              "  </style>\n",
              "\n",
              "      <script>\n",
              "        const buttonEl =\n",
              "          document.querySelector('#df-21a96c6a-8715-4511-9769-4e6d9b34da8f button.colab-df-convert');\n",
              "        buttonEl.style.display =\n",
              "          google.colab.kernel.accessAllowed ? 'block' : 'none';\n",
              "\n",
              "        async function convertToInteractive(key) {\n",
              "          const element = document.querySelector('#df-21a96c6a-8715-4511-9769-4e6d9b34da8f');\n",
              "          const dataTable =\n",
              "            await google.colab.kernel.invokeFunction('convertToInteractive',\n",
              "                                                     [key], {});\n",
              "          if (!dataTable) return;\n",
              "\n",
              "          const docLinkHtml = 'Like what you see? Visit the ' +\n",
              "            '<a target=\"_blank\" href=https://colab.research.google.com/notebooks/data_table.ipynb>data table notebook</a>'\n",
              "            + ' to learn more about interactive tables.';\n",
              "          element.innerHTML = '';\n",
              "          dataTable['output_type'] = 'display_data';\n",
              "          await google.colab.output.renderOutput(dataTable, element);\n",
              "          const docLink = document.createElement('div');\n",
              "          docLink.innerHTML = docLinkHtml;\n",
              "          element.appendChild(docLink);\n",
              "        }\n",
              "      </script>\n",
              "    </div>\n",
              "  </div>\n",
              "  "
            ]
          },
          "metadata": {},
          "execution_count": 28
        }
      ]
    },
    {
      "cell_type": "code",
      "source": [
        "sns.heatmap(corr_df)"
      ],
      "metadata": {
        "colab": {
          "base_uri": "https://localhost:8080/",
          "height": 402
        },
        "id": "3MnEyNIa_dJR",
        "outputId": "93a068da-0230-4d47-cc0d-729aa6abc788"
      },
      "execution_count": null,
      "outputs": [
        {
          "output_type": "execute_result",
          "data": {
            "text/plain": [
              "<matplotlib.axes._subplots.AxesSubplot at 0x7f3b8020e6a0>"
            ]
          },
          "metadata": {},
          "execution_count": 29
        },
        {
          "output_type": "display_data",
          "data": {
            "text/plain": [
              "<Figure size 432x288 with 2 Axes>"
            ],
            "image/png": "[encoded data removed]"
          },
          "metadata": {
            "needs_background": "light"
          }
        }
      ]
    },
    {
      "cell_type": "markdown",
      "source": [
        "### 6 Categorise the attributes into its type (Use one hot encoding wherever required)"
      ],
      "metadata": {
        "id": "6p5egOcB-VnG"
      }
    },
    {
      "cell_type": "code",
      "source": [
        "catcols = []\n",
        "numcols = []\n",
        "targetcol = ['Total Compensation']\n",
        "\n",
        "for col_name in refinedDF.dtypes:\n",
        "    if (col_name[0] not in targetcol):\n",
        "        if col_name[1] == 'string':\n",
        "            catcols.append(col_name[0])\n",
        "        else:\n",
        "            numcols.append(col_name[0])"
      ],
      "metadata": {
        "id": "6IiP2SYo-tKH"
      },
      "execution_count": null,
      "outputs": []
    },
    {
      "cell_type": "code",
      "execution_count": null,
      "metadata": {
        "collapsed": true,
        "id": "O5SYln1OQP0i",
        "colab": {
          "base_uri": "https://localhost:8080/"
        },
        "outputId": "672c04cf-fc99-4e7b-d30e-2357ae8ead83"
      },
      "outputs": [
        {
          "output_type": "stream",
          "name": "stdout",
          "text": [
            "The number of variables is equal to each other.\n"
          ]
        }
      ],
      "source": [
        "if(len(refinedDF.columns) == len(targetcol) + len(numcols) + len(catcols)):\n",
        "    print(\"The number of variables is equal to each other.\")\n",
        "else: print(\"There is a problem with variable grouping!\")"
      ]
    },
    {
      "cell_type": "code",
      "source": [
        "for cat_col in catcols:\n",
        "    print(cat_col)\n",
        "    refinedDF.groupBy(cat_col).count().orderBy(F.desc(\"count\")).show()"
      ],
      "metadata": {
        "colab": {
          "base_uri": "https://localhost:8080/"
        },
        "id": "wiWvU2l9CZzq",
        "outputId": "cb677ae2-d0be-42c5-e55f-0242c6b5d020"
      },
      "execution_count": null,
      "outputs": [
        {
          "output_type": "stream",
          "name": "stdout",
          "text": [
            "Year Type\n",
            "+---------+------+\n",
            "|Year Type| count|\n",
            "+---------+------+\n",
            "|   Fiscal|166687|\n",
            "| Calendar|123661|\n",
            "+---------+------+\n",
            "\n",
            "Department Code\n",
            "+---------------+-----+\n",
            "|Department Code|count|\n",
            "+---------------+-----+\n",
            "|            DPH|62640|\n",
            "|            MTA|42475|\n",
            "|            DSS|23993|\n",
            "|            POL|22953|\n",
            "|            REC|16220|\n",
            "|            AIR|13665|\n",
            "|            FIR|11742|\n",
            "|            DPW|11083|\n",
            "|            SHF| 7551|\n",
            "|            ADM| 7354|\n",
            "|            PUC| 6806|\n",
            "|            LIB| 6658|\n",
            "|            WTR| 5902|\n",
            "|            CWP| 4210|\n",
            "|            CRT| 3994|\n",
            "|            HHP| 2977|\n",
            "|            JUV| 2388|\n",
            "|            CAT| 2368|\n",
            "|            DBI| 2278|\n",
            "|            DAT| 2163|\n",
            "+---------------+-----+\n",
            "only showing top 20 rows\n",
            "\n",
            "Job Code\n",
            "+--------+-----+\n",
            "|Job Code|count|\n",
            "+--------+-----+\n",
            "|    9163|17964|\n",
            "|    P103| 9856|\n",
            "|    2320| 8925|\n",
            "|    9916| 6416|\n",
            "|    Q004| 5810|\n",
            "|    H002| 5772|\n",
            "|    2708| 5728|\n",
            "|    9910| 5028|\n",
            "|    3279| 4988|\n",
            "|    Q002| 4862|\n",
            "|    2303| 4480|\n",
            "|    8304| 4336|\n",
            "|    Q003| 3149|\n",
            "|    2905| 3000|\n",
            "|    Q052| 2709|\n",
            "|    8177| 2709|\n",
            "|    2736| 2622|\n",
            "|    7514| 2546|\n",
            "|    1406| 2368|\n",
            "|    H003| 2356|\n",
            "+--------+-----+\n",
            "only showing top 20 rows\n",
            "\n"
          ]
        }
      ]
    },
    {
      "cell_type": "code",
      "source": [
        "# String indexing the categorical columns\n",
        "\n",
        "from pyspark.ml.feature import StringIndexer, OneHotEncoder\n",
        "\n",
        "#String_indexers = StringIndexer(inputCols= catcols, \n",
        "#                         outputCols=['YearType_strindexed','DepartmentCode_strindexed','JobCode_strindexed'])\n",
        "\n",
        "String_indexers = StringIndexer(inputCols= catcols, \n",
        "                        outputCols=[x+\"_strIndexed\" for x in catcols])\n",
        "\n",
        "stringindexedDF = String_indexers.fit(refinedDF).transform(refinedDF)\n",
        "\n",
        "stringindexedDF.show()"
      ],
      "metadata": {
        "colab": {
          "base_uri": "https://localhost:8080/"
        },
        "id": "-EoohvYJCw06",
        "outputId": "39838c61-5248-46b6-b79e-44673d64a7a1"
      },
      "execution_count": null,
      "outputs": [
        {
          "output_type": "stream",
          "name": "stdout",
          "text": [
            "+---------+-----------------------+---------------+----------+--------+---------+--------+--------------+----------+-------------+--------------+--------------+------------------+--------------------+--------------------------+-------------------+\n",
            "|Year Type|Organization Group Code|Department Code|Union Code|Job Code| Salaries|Overtime|Other Salaries|Retirement|Health/Dental|Other Benefits|Total Benefits|Total Compensation|Year Type_strIndexed|Department Code_strIndexed|Job Code_strIndexed|\n",
            "+---------+-----------------------+---------------+----------+--------+---------+--------+--------------+----------+-------------+--------------+--------------+------------------+--------------------+--------------------------+-------------------+\n",
            "|   Fiscal|                    1.0|            DAT|     311.0|    8177|114473.16|     0.0|        1500.0|  21025.98|      13068.8|       9368.71|      43463.49|         159436.65|                 0.0|                      19.0|               14.0|\n",
            "| Calendar|                    5.0|            ART|     790.0|    1844| 84077.11|     0.0|           0.0|   16587.3|     12457.73|       6931.91|      35976.94|         120054.05|                 1.0|                      43.0|              135.0|\n",
            "| Calendar|                    4.0|            DPH|     535.0|    2903|  9980.17|     0.0|        798.43|       0.0|      2254.93|        835.11|       3090.04|          13868.64|                 1.0|                       0.0|               20.0|\n",
            "|   Fiscal|                    4.0|            DPH|     250.0|    2202|  2873.41|     0.0|           0.0|       0.0|       622.63|        222.46|        845.09|            3718.5|                 0.0|                       0.0|              333.0|\n",
            "|   Fiscal|                    5.0|            REC|     790.0|    3279|  6701.85|     0.0|         176.7|       0.0|      2711.66|        538.43|       3250.09|          10128.64|                 0.0|                       4.0|                8.0|\n",
            "|   Fiscal|                    2.0|            DPW|      21.0|    5380| 45321.18|     0.0|           0.0|   9386.03|      11780.6|       3486.34|      24652.97|          69974.15|                 0.0|                       7.0|               38.0|\n",
            "|   Fiscal|                    5.0|            LIB|     790.0|    3610|  28305.5|     0.0|       1193.14|   6616.52|      5793.48|       2430.74|      14840.74|          44339.38|                 0.0|                      11.0|               83.0|\n",
            "|   Fiscal|                    6.0|            ASR|      21.0|    4261| 39938.09|     0.0|         800.0|   8685.34|      7269.02|       3277.52|      19231.88|          59969.97|                 0.0|                      29.0|              208.0|\n",
            "| Calendar|                    1.0|            POL|     911.0|    Q060|  23112.0| 2312.73|      20944.16|   4183.12|      1911.46|         68.84|       6163.42|          52532.31|                 1.0|                       3.0|              413.0|\n",
            "|   Fiscal|                    1.0|            SHF|     498.0|    8304| 89101.22| 6856.77|       5563.78|  17596.33|     12512.55|       1627.91|      31736.79|         133258.56|                 0.0|                       8.0|               11.0|\n",
            "|   Fiscal|                    2.0|            AIR|     790.0|    9920|  7091.33|     0.0|           0.0|       0.0|      2361.82|        549.01|       2910.83|          10002.16|                 0.0|                       5.0|               34.0|\n",
            "|   Fiscal|                    2.0|            DPW|      21.0|    6230| 57467.12|  355.65|           0.0|  11901.38|     11933.98|       4691.34|       28526.7|          86349.47|                 0.0|                       7.0|              292.0|\n",
            "| Calendar|                    5.0|            REC|     261.0|    3422|  80357.0| 5612.97|           7.9|  16562.14|      12424.5|       7091.69|      36078.33|          122056.2|                 1.0|                       4.0|              205.0|\n",
            "|   Fiscal|                    2.0|            MTA|     253.0|    9163| 64170.89|13128.97|       2677.81|  17109.68|     13379.17|       6204.01|      36692.86|         116670.53|                 0.0|                       1.0|                0.0|\n",
            "|   Fiscal|                    3.0|            DSS|      22.0|    1241| 83038.01|     0.0|         200.0|  15490.62|      13068.8|       6525.06|      35084.48|         118322.49|                 0.0|                       2.0|               76.0|\n",
            "| Calendar|                    6.0|            ADM|      16.0|    1777| 92530.82|     0.0|      13412.58|  20224.21|     13054.94|       8450.17|      41729.32|         147672.72|                 1.0|                       9.0|              649.0|\n",
            "| Calendar|                    2.0|            MTA|     253.0|    9163| 44381.77|11166.58|       2694.49|   13602.2|       8826.1|        4423.7|       26852.0|          85094.84|                 1.0|                       1.0|                0.0|\n",
            "|   Fiscal|                    2.0|            MTA|     790.0|    9131|  78639.3|20332.03|       7821.87|  17683.84|     12512.54|       8707.07|      38903.45|         145696.65|                 0.0|                       1.0|              146.0|\n",
            "|   Fiscal|                    1.0|            DAT|     311.0|    8177|176267.41|     0.0|        1250.0|  36959.07|     12512.55|      10479.18|       59950.8|         237468.21|                 0.0|                      19.0|               14.0|\n",
            "|   Fiscal|                    2.0|            WTR|      38.0|    7316|100655.41| 8240.09|      16911.85|  24354.06|     12500.56|       9962.73|      46817.35|          172624.7|                 0.0|                      12.0|              249.0|\n",
            "+---------+-----------------------+---------------+----------+--------+---------+--------+--------------+----------+-------------+--------------+--------------+------------------+--------------------+--------------------------+-------------------+\n",
            "only showing top 20 rows\n",
            "\n"
          ]
        }
      ]
    },
    {
      "cell_type": "code",
      "source": [
        "# Drop unnecessary columns\n",
        "\n",
        "for x in catcols:\n",
        "    stringindexedDF = stringindexedDF.drop(x)\n",
        "    \n",
        "stringindexedDF.show()"
      ],
      "metadata": {
        "colab": {
          "base_uri": "https://localhost:8080/"
        },
        "id": "rknlhfY_C0F4",
        "outputId": "e9f6dda4-a902-482b-f09e-33f2a8797a9e"
      },
      "execution_count": null,
      "outputs": [
        {
          "output_type": "stream",
          "name": "stdout",
          "text": [
            "+-----------------------+----------+---------+--------+--------------+----------+-------------+--------------+--------------+------------------+--------------------+--------------------------+-------------------+\n",
            "|Organization Group Code|Union Code| Salaries|Overtime|Other Salaries|Retirement|Health/Dental|Other Benefits|Total Benefits|Total Compensation|Year Type_strIndexed|Department Code_strIndexed|Job Code_strIndexed|\n",
            "+-----------------------+----------+---------+--------+--------------+----------+-------------+--------------+--------------+------------------+--------------------+--------------------------+-------------------+\n",
            "|                    1.0|     311.0|114473.16|     0.0|        1500.0|  21025.98|      13068.8|       9368.71|      43463.49|         159436.65|                 0.0|                      19.0|               14.0|\n",
            "|                    5.0|     790.0| 84077.11|     0.0|           0.0|   16587.3|     12457.73|       6931.91|      35976.94|         120054.05|                 1.0|                      43.0|              135.0|\n",
            "|                    4.0|     535.0|  9980.17|     0.0|        798.43|       0.0|      2254.93|        835.11|       3090.04|          13868.64|                 1.0|                       0.0|               20.0|\n",
            "|                    4.0|     250.0|  2873.41|     0.0|           0.0|       0.0|       622.63|        222.46|        845.09|            3718.5|                 0.0|                       0.0|              333.0|\n",
            "|                    5.0|     790.0|  6701.85|     0.0|         176.7|       0.0|      2711.66|        538.43|       3250.09|          10128.64|                 0.0|                       4.0|                8.0|\n",
            "|                    2.0|      21.0| 45321.18|     0.0|           0.0|   9386.03|      11780.6|       3486.34|      24652.97|          69974.15|                 0.0|                       7.0|               38.0|\n",
            "|                    5.0|     790.0|  28305.5|     0.0|       1193.14|   6616.52|      5793.48|       2430.74|      14840.74|          44339.38|                 0.0|                      11.0|               83.0|\n",
            "|                    6.0|      21.0| 39938.09|     0.0|         800.0|   8685.34|      7269.02|       3277.52|      19231.88|          59969.97|                 0.0|                      29.0|              208.0|\n",
            "|                    1.0|     911.0|  23112.0| 2312.73|      20944.16|   4183.12|      1911.46|         68.84|       6163.42|          52532.31|                 1.0|                       3.0|              413.0|\n",
            "|                    1.0|     498.0| 89101.22| 6856.77|       5563.78|  17596.33|     12512.55|       1627.91|      31736.79|         133258.56|                 0.0|                       8.0|               11.0|\n",
            "|                    2.0|     790.0|  7091.33|     0.0|           0.0|       0.0|      2361.82|        549.01|       2910.83|          10002.16|                 0.0|                       5.0|               34.0|\n",
            "|                    2.0|      21.0| 57467.12|  355.65|           0.0|  11901.38|     11933.98|       4691.34|       28526.7|          86349.47|                 0.0|                       7.0|              292.0|\n",
            "|                    5.0|     261.0|  80357.0| 5612.97|           7.9|  16562.14|      12424.5|       7091.69|      36078.33|          122056.2|                 1.0|                       4.0|              205.0|\n",
            "|                    2.0|     253.0| 64170.89|13128.97|       2677.81|  17109.68|     13379.17|       6204.01|      36692.86|         116670.53|                 0.0|                       1.0|                0.0|\n",
            "|                    3.0|      22.0| 83038.01|     0.0|         200.0|  15490.62|      13068.8|       6525.06|      35084.48|         118322.49|                 0.0|                       2.0|               76.0|\n",
            "|                    6.0|      16.0| 92530.82|     0.0|      13412.58|  20224.21|     13054.94|       8450.17|      41729.32|         147672.72|                 1.0|                       9.0|              649.0|\n",
            "|                    2.0|     253.0| 44381.77|11166.58|       2694.49|   13602.2|       8826.1|        4423.7|       26852.0|          85094.84|                 1.0|                       1.0|                0.0|\n",
            "|                    2.0|     790.0|  78639.3|20332.03|       7821.87|  17683.84|     12512.54|       8707.07|      38903.45|         145696.65|                 0.0|                       1.0|              146.0|\n",
            "|                    1.0|     311.0|176267.41|     0.0|        1250.0|  36959.07|     12512.55|      10479.18|       59950.8|         237468.21|                 0.0|                      19.0|               14.0|\n",
            "|                    2.0|      38.0|100655.41| 8240.09|      16911.85|  24354.06|     12500.56|       9962.73|      46817.35|          172624.7|                 0.0|                      12.0|              249.0|\n",
            "+-----------------------+----------+---------+--------+--------------+----------+-------------+--------------+--------------+------------------+--------------------+--------------------------+-------------------+\n",
            "only showing top 20 rows\n",
            "\n"
          ]
        }
      ]
    },
    {
      "cell_type": "code",
      "source": [
        "encoder = OneHotEncoder(inputCols= [x+\"_strIndexed\" for x in catcols], \n",
        "                         outputCols=[x+\"_OHEncoded\" for x in catcols])\n",
        "encodedDF = encoder.fit(stringindexedDF).transform(stringindexedDF)\n",
        "\n",
        "encodedDF.show()"
      ],
      "metadata": {
        "colab": {
          "base_uri": "https://localhost:8080/"
        },
        "id": "6EbXxtwmDI_Y",
        "outputId": "e0918a63-acb0-4c66-f2ca-759e4b2afcff"
      },
      "execution_count": null,
      "outputs": [
        {
          "output_type": "stream",
          "name": "stdout",
          "text": [
            "+-----------------------+----------+---------+--------+--------------+----------+-------------+--------------+--------------+------------------+--------------------+--------------------------+-------------------+-------------------+-------------------------+------------------+\n",
            "|Organization Group Code|Union Code| Salaries|Overtime|Other Salaries|Retirement|Health/Dental|Other Benefits|Total Benefits|Total Compensation|Year Type_strIndexed|Department Code_strIndexed|Job Code_strIndexed|Year Type_OHEncoded|Department Code_OHEncoded|Job Code_OHEncoded|\n",
            "+-----------------------+----------+---------+--------+--------------+----------+-------------+--------------+--------------+------------------+--------------------+--------------------------+-------------------+-------------------+-------------------------+------------------+\n",
            "|                    1.0|     311.0|114473.16|     0.0|        1500.0|  21025.98|      13068.8|       9368.71|      43463.49|         159436.65|                 0.0|                      19.0|               14.0|      (1,[0],[1.0])|          (53,[19],[1.0])| (1129,[14],[1.0])|\n",
            "|                    5.0|     790.0| 84077.11|     0.0|           0.0|   16587.3|     12457.73|       6931.91|      35976.94|         120054.05|                 1.0|                      43.0|              135.0|          (1,[],[])|          (53,[43],[1.0])|(1129,[135],[1.0])|\n",
            "|                    4.0|     535.0|  9980.17|     0.0|        798.43|       0.0|      2254.93|        835.11|       3090.04|          13868.64|                 1.0|                       0.0|               20.0|          (1,[],[])|           (53,[0],[1.0])| (1129,[20],[1.0])|\n",
            "|                    4.0|     250.0|  2873.41|     0.0|           0.0|       0.0|       622.63|        222.46|        845.09|            3718.5|                 0.0|                       0.0|              333.0|      (1,[0],[1.0])|           (53,[0],[1.0])|(1129,[333],[1.0])|\n",
            "|                    5.0|     790.0|  6701.85|     0.0|         176.7|       0.0|      2711.66|        538.43|       3250.09|          10128.64|                 0.0|                       4.0|                8.0|      (1,[0],[1.0])|           (53,[4],[1.0])|  (1129,[8],[1.0])|\n",
            "|                    2.0|      21.0| 45321.18|     0.0|           0.0|   9386.03|      11780.6|       3486.34|      24652.97|          69974.15|                 0.0|                       7.0|               38.0|      (1,[0],[1.0])|           (53,[7],[1.0])| (1129,[38],[1.0])|\n",
            "|                    5.0|     790.0|  28305.5|     0.0|       1193.14|   6616.52|      5793.48|       2430.74|      14840.74|          44339.38|                 0.0|                      11.0|               83.0|      (1,[0],[1.0])|          (53,[11],[1.0])| (1129,[83],[1.0])|\n",
            "|                    6.0|      21.0| 39938.09|     0.0|         800.0|   8685.34|      7269.02|       3277.52|      19231.88|          59969.97|                 0.0|                      29.0|              208.0|      (1,[0],[1.0])|          (53,[29],[1.0])|(1129,[208],[1.0])|\n",
            "|                    1.0|     911.0|  23112.0| 2312.73|      20944.16|   4183.12|      1911.46|         68.84|       6163.42|          52532.31|                 1.0|                       3.0|              413.0|          (1,[],[])|           (53,[3],[1.0])|(1129,[413],[1.0])|\n",
            "|                    1.0|     498.0| 89101.22| 6856.77|       5563.78|  17596.33|     12512.55|       1627.91|      31736.79|         133258.56|                 0.0|                       8.0|               11.0|      (1,[0],[1.0])|           (53,[8],[1.0])| (1129,[11],[1.0])|\n",
            "|                    2.0|     790.0|  7091.33|     0.0|           0.0|       0.0|      2361.82|        549.01|       2910.83|          10002.16|                 0.0|                       5.0|               34.0|      (1,[0],[1.0])|           (53,[5],[1.0])| (1129,[34],[1.0])|\n",
            "|                    2.0|      21.0| 57467.12|  355.65|           0.0|  11901.38|     11933.98|       4691.34|       28526.7|          86349.47|                 0.0|                       7.0|              292.0|      (1,[0],[1.0])|           (53,[7],[1.0])|(1129,[292],[1.0])|\n",
            "|                    5.0|     261.0|  80357.0| 5612.97|           7.9|  16562.14|      12424.5|       7091.69|      36078.33|          122056.2|                 1.0|                       4.0|              205.0|          (1,[],[])|           (53,[4],[1.0])|(1129,[205],[1.0])|\n",
            "|                    2.0|     253.0| 64170.89|13128.97|       2677.81|  17109.68|     13379.17|       6204.01|      36692.86|         116670.53|                 0.0|                       1.0|                0.0|      (1,[0],[1.0])|           (53,[1],[1.0])|  (1129,[0],[1.0])|\n",
            "|                    3.0|      22.0| 83038.01|     0.0|         200.0|  15490.62|      13068.8|       6525.06|      35084.48|         118322.49|                 0.0|                       2.0|               76.0|      (1,[0],[1.0])|           (53,[2],[1.0])| (1129,[76],[1.0])|\n",
            "|                    6.0|      16.0| 92530.82|     0.0|      13412.58|  20224.21|     13054.94|       8450.17|      41729.32|         147672.72|                 1.0|                       9.0|              649.0|          (1,[],[])|           (53,[9],[1.0])|(1129,[649],[1.0])|\n",
            "|                    2.0|     253.0| 44381.77|11166.58|       2694.49|   13602.2|       8826.1|        4423.7|       26852.0|          85094.84|                 1.0|                       1.0|                0.0|          (1,[],[])|           (53,[1],[1.0])|  (1129,[0],[1.0])|\n",
            "|                    2.0|     790.0|  78639.3|20332.03|       7821.87|  17683.84|     12512.54|       8707.07|      38903.45|         145696.65|                 0.0|                       1.0|              146.0|      (1,[0],[1.0])|           (53,[1],[1.0])|(1129,[146],[1.0])|\n",
            "|                    1.0|     311.0|176267.41|     0.0|        1250.0|  36959.07|     12512.55|      10479.18|       59950.8|         237468.21|                 0.0|                      19.0|               14.0|      (1,[0],[1.0])|          (53,[19],[1.0])| (1129,[14],[1.0])|\n",
            "|                    2.0|      38.0|100655.41| 8240.09|      16911.85|  24354.06|     12500.56|       9962.73|      46817.35|          172624.7|                 0.0|                      12.0|              249.0|      (1,[0],[1.0])|          (53,[12],[1.0])|(1129,[249],[1.0])|\n",
            "+-----------------------+----------+---------+--------+--------------+----------+-------------+--------------+--------------+------------------+--------------------+--------------------------+-------------------+-------------------+-------------------------+------------------+\n",
            "only showing top 20 rows\n",
            "\n"
          ]
        }
      ]
    },
    {
      "cell_type": "code",
      "source": [
        "# Drop unnecessary columns\n",
        "\n",
        "for x in catcols:\n",
        "    encodedDF = encodedDF.drop(x+\"_strIndexed\")\n",
        "    \n",
        "encodedDF.show()"
      ],
      "metadata": {
        "colab": {
          "base_uri": "https://localhost:8080/"
        },
        "id": "94rvlZulDURw",
        "outputId": "6f2c4bfe-045f-4fb1-fccd-11f5fa2cb067"
      },
      "execution_count": null,
      "outputs": [
        {
          "output_type": "stream",
          "name": "stdout",
          "text": [
            "+-----------------------+----------+---------+--------+--------------+----------+-------------+--------------+--------------+------------------+-------------------+-------------------------+------------------+\n",
            "|Organization Group Code|Union Code| Salaries|Overtime|Other Salaries|Retirement|Health/Dental|Other Benefits|Total Benefits|Total Compensation|Year Type_OHEncoded|Department Code_OHEncoded|Job Code_OHEncoded|\n",
            "+-----------------------+----------+---------+--------+--------------+----------+-------------+--------------+--------------+------------------+-------------------+-------------------------+------------------+\n",
            "|                    1.0|     311.0|114473.16|     0.0|        1500.0|  21025.98|      13068.8|       9368.71|      43463.49|         159436.65|      (1,[0],[1.0])|          (53,[19],[1.0])| (1129,[14],[1.0])|\n",
            "|                    5.0|     790.0| 84077.11|     0.0|           0.0|   16587.3|     12457.73|       6931.91|      35976.94|         120054.05|          (1,[],[])|          (53,[43],[1.0])|(1129,[135],[1.0])|\n",
            "|                    4.0|     535.0|  9980.17|     0.0|        798.43|       0.0|      2254.93|        835.11|       3090.04|          13868.64|          (1,[],[])|           (53,[0],[1.0])| (1129,[20],[1.0])|\n",
            "|                    4.0|     250.0|  2873.41|     0.0|           0.0|       0.0|       622.63|        222.46|        845.09|            3718.5|      (1,[0],[1.0])|           (53,[0],[1.0])|(1129,[333],[1.0])|\n",
            "|                    5.0|     790.0|  6701.85|     0.0|         176.7|       0.0|      2711.66|        538.43|       3250.09|          10128.64|      (1,[0],[1.0])|           (53,[4],[1.0])|  (1129,[8],[1.0])|\n",
            "|                    2.0|      21.0| 45321.18|     0.0|           0.0|   9386.03|      11780.6|       3486.34|      24652.97|          69974.15|      (1,[0],[1.0])|           (53,[7],[1.0])| (1129,[38],[1.0])|\n",
            "|                    5.0|     790.0|  28305.5|     0.0|       1193.14|   6616.52|      5793.48|       2430.74|      14840.74|          44339.38|      (1,[0],[1.0])|          (53,[11],[1.0])| (1129,[83],[1.0])|\n",
            "|                    6.0|      21.0| 39938.09|     0.0|         800.0|   8685.34|      7269.02|       3277.52|      19231.88|          59969.97|      (1,[0],[1.0])|          (53,[29],[1.0])|(1129,[208],[1.0])|\n",
            "|                    1.0|     911.0|  23112.0| 2312.73|      20944.16|   4183.12|      1911.46|         68.84|       6163.42|          52532.31|          (1,[],[])|           (53,[3],[1.0])|(1129,[413],[1.0])|\n",
            "|                    1.0|     498.0| 89101.22| 6856.77|       5563.78|  17596.33|     12512.55|       1627.91|      31736.79|         133258.56|      (1,[0],[1.0])|           (53,[8],[1.0])| (1129,[11],[1.0])|\n",
            "|                    2.0|     790.0|  7091.33|     0.0|           0.0|       0.0|      2361.82|        549.01|       2910.83|          10002.16|      (1,[0],[1.0])|           (53,[5],[1.0])| (1129,[34],[1.0])|\n",
            "|                    2.0|      21.0| 57467.12|  355.65|           0.0|  11901.38|     11933.98|       4691.34|       28526.7|          86349.47|      (1,[0],[1.0])|           (53,[7],[1.0])|(1129,[292],[1.0])|\n",
            "|                    5.0|     261.0|  80357.0| 5612.97|           7.9|  16562.14|      12424.5|       7091.69|      36078.33|          122056.2|          (1,[],[])|           (53,[4],[1.0])|(1129,[205],[1.0])|\n",
            "|                    2.0|     253.0| 64170.89|13128.97|       2677.81|  17109.68|     13379.17|       6204.01|      36692.86|         116670.53|      (1,[0],[1.0])|           (53,[1],[1.0])|  (1129,[0],[1.0])|\n",
            "|                    3.0|      22.0| 83038.01|     0.0|         200.0|  15490.62|      13068.8|       6525.06|      35084.48|         118322.49|      (1,[0],[1.0])|           (53,[2],[1.0])| (1129,[76],[1.0])|\n",
            "|                    6.0|      16.0| 92530.82|     0.0|      13412.58|  20224.21|     13054.94|       8450.17|      41729.32|         147672.72|          (1,[],[])|           (53,[9],[1.0])|(1129,[649],[1.0])|\n",
            "|                    2.0|     253.0| 44381.77|11166.58|       2694.49|   13602.2|       8826.1|        4423.7|       26852.0|          85094.84|          (1,[],[])|           (53,[1],[1.0])|  (1129,[0],[1.0])|\n",
            "|                    2.0|     790.0|  78639.3|20332.03|       7821.87|  17683.84|     12512.54|       8707.07|      38903.45|         145696.65|      (1,[0],[1.0])|           (53,[1],[1.0])|(1129,[146],[1.0])|\n",
            "|                    1.0|     311.0|176267.41|     0.0|        1250.0|  36959.07|     12512.55|      10479.18|       59950.8|         237468.21|      (1,[0],[1.0])|          (53,[19],[1.0])| (1129,[14],[1.0])|\n",
            "|                    2.0|      38.0|100655.41| 8240.09|      16911.85|  24354.06|     12500.56|       9962.73|      46817.35|          172624.7|      (1,[0],[1.0])|          (53,[12],[1.0])|(1129,[249],[1.0])|\n",
            "+-----------------------+----------+---------+--------+--------------+----------+-------------+--------------+--------------+------------------+-------------------+-------------------------+------------------+\n",
            "only showing top 20 rows\n",
            "\n"
          ]
        }
      ]
    },
    {
      "cell_type": "code",
      "source": [
        "vectinDF = stringindexedDF.drop('Total Compensation')\n",
        "inp_cols= vectinDF.columns\n",
        "\n",
        "inp_cols"
      ],
      "metadata": {
        "colab": {
          "base_uri": "https://localhost:8080/"
        },
        "id": "8N4aooHEDexl",
        "outputId": "09eb19f5-feed-4f11-be75-9a12f031022f"
      },
      "execution_count": null,
      "outputs": [
        {
          "output_type": "execute_result",
          "data": {
            "text/plain": [
              "['Organization Group Code',\n",
              " 'Union Code',\n",
              " 'Salaries',\n",
              " 'Overtime',\n",
              " 'Other Salaries',\n",
              " 'Retirement',\n",
              " 'Health/Dental',\n",
              " 'Other Benefits',\n",
              " 'Total Benefits',\n",
              " 'Year Type_strIndexed',\n",
              " 'Department Code_strIndexed',\n",
              " 'Job Code_strIndexed']"
            ]
          },
          "metadata": {},
          "execution_count": 37
        }
      ]
    },
    {
      "cell_type": "code",
      "source": [
        "from pyspark.ml.feature import VectorAssembler\n",
        "\n",
        "vectorAssembler = VectorAssembler(inputCols = inp_cols , outputCol = 'features')\n",
        "assembledDF = vectorAssembler.transform(stringindexedDF)\n",
        "\n",
        "assembledDF.select(\"features\").show(5, False)"
      ],
      "metadata": {
        "colab": {
          "base_uri": "https://localhost:8080/"
        },
        "id": "0iGx_oA3Dmw-",
        "outputId": "9206f02f-f7fa-4d68-f31a-163f90c0cb64"
      },
      "execution_count": null,
      "outputs": [
        {
          "output_type": "stream",
          "name": "stdout",
          "text": [
            "+--------------------------------------------------------------------------------+\n",
            "|features                                                                        |\n",
            "+--------------------------------------------------------------------------------+\n",
            "|[1.0,311.0,114473.16,0.0,1500.0,21025.98,13068.8,9368.71,43463.49,0.0,19.0,14.0]|\n",
            "|[5.0,790.0,84077.11,0.0,0.0,16587.3,12457.73,6931.91,35976.94,1.0,43.0,135.0]   |\n",
            "|[4.0,535.0,9980.17,0.0,798.43,0.0,2254.93,835.11,3090.04,1.0,0.0,20.0]          |\n",
            "|[4.0,250.0,2873.41,0.0,0.0,0.0,622.63,222.46,845.09,0.0,0.0,333.0]              |\n",
            "|[5.0,790.0,6701.85,0.0,176.7,0.0,2711.66,538.43,3250.09,0.0,4.0,8.0]            |\n",
            "+--------------------------------------------------------------------------------+\n",
            "only showing top 5 rows\n",
            "\n"
          ]
        }
      ]
    },
    {
      "cell_type": "markdown",
      "source": [
        "### 6.1 Split the data into train and test set"
      ],
      "metadata": {
        "id": "rrGRAFAG-YLX"
      }
    },
    {
      "cell_type": "code",
      "source": [
        "# We spilt the data into 70-30 set\n",
        "# Training Set - 70% obesevations\n",
        "# Testing Set - 30% observations\n",
        "train,test =  assembledDF.randomSplit([0.7,0.3], seed = 2020)\n",
        "\n",
        "# print the count of observations in each set\n",
        "print(\"Observations in training set = \", train.count())\n",
        "print(\"Observations in testing set = \", test.count())"
      ],
      "metadata": {
        "colab": {
          "base_uri": "https://localhost:8080/"
        },
        "id": "6r9ho58lDwof",
        "outputId": "485da383-a50f-4553-b007-893a047bb2be"
      },
      "execution_count": null,
      "outputs": [
        {
          "output_type": "stream",
          "name": "stdout",
          "text": [
            "Observations in training set =  203282\n",
            "Observations in testing set =  87066\n"
          ]
        }
      ]
    },
    {
      "cell_type": "markdown",
      "metadata": {
        "application/vnd.databricks.v1+cell": {
          "inputWidgets": {},
          "nuid": "114ba72f-16e5-4657-bbaf-969596890cca",
          "showTitle": false,
          "title": ""
        },
        "id": "XSZnLJe5QP0i"
      },
      "source": [
        "### 7. Fit Linear Regression model on the data and check its performance"
      ]
    },
    {
      "cell_type": "code",
      "source": [
        "from pyspark.ml.regression import LinearRegression\n",
        "\n",
        "lnr = LinearRegression(featuresCol = 'features', labelCol='Total Compensation', maxIter=10, regParam=0.3, elasticNetParam=0.8)\n",
        "lrmodel = lnr.fit(train)\n",
        "print(\"Coefficients: \" + str(lrmodel.coefficients))\n",
        "print(\"Intercept: \" + str(lrmodel.intercept))"
      ],
      "metadata": {
        "colab": {
          "base_uri": "https://localhost:8080/"
        },
        "id": "IB9E4tA6Emqw",
        "outputId": "29bc4f32-508a-4d0c-aef9-db90edc20e6f"
      },
      "execution_count": null,
      "outputs": [
        {
          "output_type": "stream",
          "name": "stdout",
          "text": [
            "Coefficients: [162.4857501892879,0.7014816807753479,0.8110013180645717,0.979476911691317,0.9296198751744864,1.4168017136959603,-0.01826905645996941,0.34283209417176413,0.6809396060165234,-342.5179453428342,-0.0,0.8510906251188712]\n",
            "Intercept: 228.73249512888364\n"
          ]
        }
      ]
    },
    {
      "cell_type": "code",
      "source": [
        "predictionDF = lrmodel.transform(test)\n",
        "\n",
        "predictionDF.select(\"prediction\",\"Total Compensation\",\"features\").show()"
      ],
      "metadata": {
        "colab": {
          "base_uri": "https://localhost:8080/"
        },
        "id": "sDJPDDUPEwXp",
        "outputId": "d68764e9-1d59-44b7-f32f-050b949a1799"
      },
      "execution_count": null,
      "outputs": [
        {
          "output_type": "stream",
          "name": "stdout",
          "text": [
            "+------------------+------------------+--------------------+\n",
            "|        prediction|Total Compensation|            features|\n",
            "+------------------+------------------+--------------------+\n",
            "|1382.8282732870248|            782.17|[1.0,1.0,330.35,0...|\n",
            "|3161.4779462046918|           1821.55|[1.0,1.0,397.0,0....|\n",
            "| 1471.831725963118|            883.79|[1.0,1.0,401.0,0....|\n",
            "|1939.6445817349238|           1277.46|[1.0,1.0,413.0,0....|\n",
            "|1241.4357355238408|            583.08|[1.0,1.0,413.0,0....|\n",
            "| 1143.568983453349|            917.51|[1.0,1.0,496.25,0...|\n",
            "|  1490.03868755891|            921.37|[1.0,1.0,496.25,0...|\n",
            "| 1442.683339798634|            806.51|[1.0,1.0,586.3,0....|\n",
            "| 1765.848425719934|           1133.41|[1.0,1.0,839.4,0....|\n",
            "| 9768.199783336158|           6043.47|[1.0,1.0,1297.25,...|\n",
            "| 2683.068839296689|           2548.48|[1.0,1.0,1458.9,0...|\n",
            "| 66462.14508297818|          67344.95|[1.0,1.0,47176.8,...|\n",
            "| 89879.62594239633|          91769.19|[1.0,1.0,61991.82...|\n",
            "| 92957.29962516094|           93412.3|[1.0,1.0,62293.82...|\n",
            "| 97800.78679523134|          97155.64|[1.0,1.0,65358.03...|\n",
            "|105752.30900924698|         104654.29|[1.0,1.0,69702.73...|\n",
            "|103957.73618847864|         105967.83|[1.0,1.0,72182.02...|\n",
            "|107421.32669203321|         106604.87|[1.0,1.0,73062.13...|\n",
            "|1164.8770760025575|            666.78|[1.0,2.0,475.44,0...|\n",
            "|166821.51543796845|         159893.65|[1.0,2.0,114888.0...|\n",
            "+------------------+------------------+--------------------+\n",
            "only showing top 20 rows\n",
            "\n"
          ]
        }
      ]
    },
    {
      "cell_type": "code",
      "source": [
        "from pyspark.ml.evaluation import RegressionEvaluator\n",
        "lr_evaluator = RegressionEvaluator(predictionCol=\"prediction\", \\\n",
        "                 labelCol=\"Total Compensation\",metricName=\"r2\")\n",
        "r2=lr_evaluator.evaluate(predictionDF)\n",
        "print(\"R Squared (R2) on test data = %g\" % r2)"
      ],
      "metadata": {
        "colab": {
          "base_uri": "https://localhost:8080/"
        },
        "id": "gOGXTYODFMuM",
        "outputId": "bc48c350-2367-4a3b-a4ba-a7e7b321344e"
      },
      "execution_count": null,
      "outputs": [
        {
          "output_type": "stream",
          "name": "stdout",
          "text": [
            "R Squared (R2) on test data = 0.997984\n"
          ]
        }
      ]
    },
    {
      "cell_type": "markdown",
      "metadata": {
        "application/vnd.databricks.v1+cell": {
          "inputWidgets": {},
          "nuid": "51e30540-ef2e-4239-b323-ba406674e87b",
          "showTitle": false,
          "title": ""
        },
        "id": "yb53Fy9yQP0i"
      },
      "source": [
        "### 8. Fit Decision Tree Regression model on the data and check its performance (Optional)"
      ]
    },
    {
      "cell_type": "code",
      "source": [
        "# from pyspark.ml.regression import DecisionTreeRegressor\n",
        "# dt = DecisionTreeRegressor(featuresCol ='features', labelCol = 'Total Compensation', impurity='gini', maxDepth=5, maxBins=32)\n",
        "# dt_model = dt.fit(train)\n",
        "\n",
        "# print(\"Coefficients: \" + str(dt_model.coefficients))\n",
        "# print(\"Intercept: \" + str(dt_model.intercept))"
      ],
      "metadata": {
        "id": "RW6JSw9TFbyn"
      },
      "execution_count": null,
      "outputs": []
    },
    {
      "cell_type": "code",
      "execution_count": null,
      "metadata": {
        "collapsed": true,
        "id": "XVl80s2AQP0i"
      },
      "outputs": [],
      "source": [
        "# from pyspark.ml.regression import DecisionTreeRegressor\n",
        "# dt_model = DecisionTreeRegressor().fit(train)"
      ]
    },
    {
      "cell_type": "markdown",
      "metadata": {
        "application/vnd.databricks.v1+cell": {
          "inputWidgets": {},
          "nuid": "addb469a-37a3-47e8-8e65-4972a889cc4f",
          "showTitle": false,
          "title": ""
        },
        "id": "NPagi7ftQP0i"
      },
      "source": [
        "### Model Persistence (Optional)\n",
        "Model persistence means saving your model to a disk. After you finalize your model for prediction depending upon the performance, you need to save the model to the disk. Let's say, you finalize 'lrmodel' to be used for in production environment i.e. in your application. We use the following code to save it."
      ]
    },
    {
      "cell_type": "markdown",
      "source": [
        "##### Saving the model"
      ],
      "metadata": {
        "id": "Id1_cG1yb_7n"
      }
    },
    {
      "cell_type": "code",
      "execution_count": null,
      "metadata": {
        "application/vnd.databricks.v1+cell": {
          "inputWidgets": {},
          "nuid": "be6d56cb-e99e-4b37-993b-ef66c9bf7963",
          "showTitle": false,
          "title": ""
        },
        "id": "VHHfHnTgQP0i"
      },
      "outputs": [],
      "source": [
        "# # use save() method to save the model\n",
        "# # write().overwrite() is usually used when you want to replace the older model with a new one\n",
        "# # It might happen that you wish to retrain your model and save it at the same the place\n",
        "# lrmodel.write().overwrite().save(\"/FileStore/models/lrmodel\")"
      ]
    },
    {
      "cell_type": "markdown",
      "source": [
        "##### Loading the model"
      ],
      "metadata": {
        "id": "VzsuP83tcEVN"
      }
    },
    {
      "cell_type": "code",
      "source": [
        "# # import PipelineModel from pyspark.ml package\n",
        "# from pyspark.ml import PipelineModel\n",
        "\n",
        "# # load the model from the location it is stored\n",
        "# # The loaded model acts as PipelineModel\n",
        "# pipemodel = PipelineModel.load(\"/FileStore/models/lrmodel\")\n",
        "\n",
        "# # use the PipelineModel object to perform prediciton on test data. \n",
        "# # Use .transform() to perfrom prediction\n",
        "# prediction = pipemodel.transform(testDF)\n",
        "\n",
        "# # print the results\n",
        "# prediction.select('label', 'rawPrediction', 'probability', 'prediction').show(5)"
      ],
      "metadata": {
        "id": "273mlbIPb8rY"
      },
      "execution_count": null,
      "outputs": []
    }
  ],
  "metadata": {
    "application/vnd.databricks.v1+notebook": {
      "dashboards": [],
      "language": "python",
      "notebookMetadata": {
        "pythonIndentUnit": 2
      },
      "notebookName": "In-Class Exercise (Spark ML)",
      "notebookOrigID": 3796726700441172,
      "widgets": {}
    },
    "kernelspec": {
      "display_name": "Python 3",
      "language": "python",
      "name": "python3"
    },
    "language_info": {
      "codemirror_mode": {
        "name": "ipython",
        "version": 3
      },
      "file_extension": ".py",
      "mimetype": "text/x-python",
      "name": "python",
      "nbconvert_exporter": "python",
      "pygments_lexer": "ipython3",
      "version": "3.6.3"
    },
    "colab": {
      "provenance": []
    }
  },
  "nbformat": 4,
  "nbformat_minor": 0
}